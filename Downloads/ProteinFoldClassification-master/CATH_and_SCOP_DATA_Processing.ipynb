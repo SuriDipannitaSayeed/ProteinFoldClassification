{
  "cells": [
    {
      "cell_type": "code",
      "execution_count": null,
      "metadata": {
        "id": "hEKt3D4ov-eY"
      },
      "outputs": [],
      "source": [
        "!jar -xvf   '/content/drive/MyDrive/PTGL_ADJ-PG_JSON_files.zip'"
      ]
    },
    {
      "cell_type": "code",
      "execution_count": null,
      "metadata": {
        "id": "eu5fRwi1GOaU"
      },
      "outputs": [],
      "source": [
        "!python -m zipfile -c all_alpha_json_data.zip /content/all_alpha_json_data"
      ]
    },
    {
      "cell_type": "code",
      "execution_count": null,
      "metadata": {
        "id": "xfYrcb6Yxt9v"
      },
      "outputs": [],
      "source": [
        "import os\n",
        "import shutil\n",
        "\n",
        "for root, dirs, files in os.walk('/content/PTGL_ADJ-PG_JSON_files'):  # replace the . with your starting directory\n",
        "   for file in files:\n",
        "      path_file = os.path.join(root,file)\n",
        "      shutil.copy2(path_file,'/content/all_alpha_json_data')"
      ]
    },
    {
      "cell_type": "code",
      "execution_count": null,
      "metadata": {
        "colab": {
          "base_uri": "https://localhost:8080/"
        },
        "id": "98CZxtv75Aw0",
        "outputId": "83a80e86-7106-4d57-ad6e-7a3cafea7948"
      },
      "outputs": [
        {
          "output_type": "stream",
          "name": "stdout",
          "text": [
            "['2ZJP_K', '1NWY_L', '4IOA_K', '5JVG_K', '3PIP_K', '4IO9_K', '4U67_K', '1NWX_L', '2ZJR_K', '7A0S_K', '4WFN_K', '5JVH_K', '1XBP_L', '3DLL_K', '1SM1_L', '4IOC_K', '7A0R_K', '3PIO_K', '1NKW_L', '2ZJQ_K', '3CF5_K', '7A18_K', '4V49_BL', '4V4A_BL', '4V4G_BO', '4V4G_DO', '4V4G_FO', '4V4G_HO', '4V4G_JO', '5DM7_K', '5DM6_K', '6OM6_N', '6XDQ_w', '3JCE_N', '4V6Q_BP', '4V6M_BN', '6ZU1_BO', '5AKA_N', '7BL3_N', '6VYW_w', '5ADY_N', '6VYS_w', '7BL2_N', '5MDZ_N', '3JCJ_M', '6OGF_n', '6VYR_w', '5U9G_16', '7PJS_N', '7N30_LQ', '6X9Q_w', '6QUL_O', '4V9C_BN', '4V9C_DN', '6O9J_N', '5JU8_BN', '4V7C_BP', '4V7I_AN', '7PJU_N', '4V85_BR', '6YST_N', '4V6L_BO', '6XDR_w', '6SZS_N', '6VYU_w', '7N2C_LQ', '6VZ2_w', '5MDY_N', '6ZTN_BO', '6VYZ_w', '3J9Z_LJ', '4V55_BN', '4V55_DN', '4V89_BR', '6YSR_N', '6TC3_L171', '5MDV_N', '5J88_CO', '5J88_DO', '7N1P_LQ', '5KPS_N', '6ZTJ_BO', '4V4Q_BN', '4V4Q_DN', '7S1G_V', '3JCD_N', '4V6S_AP', '4V57_BN', '4V57_DN', '6XGF_w', '6VYT_w', '6Q98_N', '3J7Z_N', '4V65_BG', '6C4I_O', '4V54_BN', '4V54_DN', '4V6E_BN', '4V6E_DN', '7BV8_O', '4V6K_AO', '4WOI_BN', '4WOI_CN', '5GAE_O', '3JBU_n', '2J28_N', '3JBV_n', '5MDW_N', '7PJV_N', '6VWN_L', '5GAG_O', '5H5U_O', '4CSU_N', '4V7D_AQ', '6QDW_n', '4V6V_BR', '5GAH_O', '6VZ5_w', '3JCN_N', '6XII_w', '5NWY_a', '5L3P_R', '7PJW_N', '4V9P_AN', '4V9P_CN', '4V9P_EN', '4V9P_GN', '7N2U_LQ', '5U4I_O', '6VYY_w', '5KPX_M', '5KCS_1R', '4V7B_BN', '5KPV_M', '6X7K_w', '3BBX_N', '5GAD_O', '6OGG_n', '6TBV_L171', '6XIJ_w', '5U9F_16', '4V56_BN', '4V56_DN', '4V64_BN', '4V64_DN', '6YSS_N', '7PJT_N', '4V5Y_BN', '4V5Y_DN', '4V52_BN', '4V52_DN', '6ZTL_BO', '7S1H_V', '6VYQ_w', '5IQR_N', '6VWL_L', '7PJX_N', '7PJY_N', '7O19_BN', '7K00_m', '6OGI_n', '6ZTM_BO', '4V6P_BP', '4V6R_BP', '7D80_m', '4V6N_AP', '5AFI_N', '7OIZ_m', '7O1A_BN', '6ZTP_BO', '7D6Z_N', '4V50_BN', '4V50_DN', '5JTE_BN', '7PJZ_N', '6DNC_R', '5KCR_1R', '4V53_BN', '4V53_DN', '7N2V_LQ', '5KPW_M', '7BL5_N', '4V5B_AN', '4V5B_CN', '3J8G_N', '4V6O_BP', '6YSU_N', '6ZTO_BO', '7BL4_N', '6YS3_n', '6S0K_O', '4V6D_BN', '4V6D_DN', '6X6T_w', '7P3K_m', '4V47_AL', '4V4H_BN', '4V4H_DN', '7O1C_BN', '3JA1_LP', '4V6C_BN', '4V6C_DN', '6VWM_L', '4V48_AL', '6X7F_w', '7N31_LQ', '3J9Y_N', '4V9O_AN', '4V9O_CN', '4V9O_EN', '4V9O_GN', '4V66_BG', '2RDO_N', '7OJ0_m', '7M4V_M', '6V3A_M', '6V3D_M', '7M4W_M', '6XZA_N2', '5J8A_CO', '5J8A_DO', '7M4X_M', '6XZ7_N', '6XZB_N2', '5IT8_CO', '5IT8_DO', '5J7L_CO', '5J7L_DO', '5J5B_CO', '5J5B_DO', '7M4Z_M', '6YSI_J', '6V39_M', '5J91_CO', '5J91_DO', '6YHS_J', '5GAF_O', '7M4Y_M', '5JC9_CO', '5JC9_DO', '5NCO_O', '6V3B_M', '4YBB_CO', '4YBB_DO', '4V78_BN', '4V7A_BN', '4V6Y_BN', '4V74_BN', '6BY1_CN', '6BY1_DN', '4V73_BN', '4V70_BN', '4V72_BN', '4V76_BN', '4V75_BN', '4V77_BN', '4V71_BN', '4V6Z_BN', '4V79_BN', '6OFX_n', '5O2R_N', '6WD9_n', '6LKQ_4', '5LZC_N', '4U27_BN', '4U27_DN', '7JSS_n', '4U25_BN', '4U25_DN', '6SPF_N', '6GXN_N', '6GXO_N', '6ENF_N', '7JT1_n', '4V7T_BN', '4V7T_DN', '3J5L_N', '6WDJ_n', '4U20_BN', '4U20_DN', '4U1V_BN', '4U1V_DN', '5LZD_N', '6GC0_N', '6GC4_N', '6WD2_n', '7ABZ_N', '7K50_n', '6Y69_N', '5LZF_N', '7K53_n', '5UYL_16', '5LZE_N', '4U1U_BN', '4U1U_DN', '7JSW_n', '6WD8_n', '6WDK_n', '6WDM_n', '6WD0_n', '6WDG_n', '6WDI_n', '6GBZ_N', '6SPB_N', '6GC8_N', '7JT2_n', '6U48_CO', '6WDH_n', '6WNT_n', '4V9D_CN', '4V9D_DN', '6WNW_n', '6GWT_N', '5UYN_16', '6WD1_n', '6I7V_CO', '6I7V_DO', '6PJ6_V', '7K52_n', '6O9K_N', '4UY8_N', '5UYP_16', '4V5H_BN', '6H4N_N', '6GC7_N', '4WWW_RN', '4WWW_YN', '7JT3_n', '5LZB_N', '5LZA_N', '6WNV_n', '5UYQ_16', '6WD3_n', '7K55_n', '6OG7_n', '6WDA_n', '6I0Y_N', '6WD7_n', '6WDD_n', '4U26_BN', '4U26_DN', '6GXP_N', '7K54_n', '6WDC_n', '4V7S_BN', '4V7S_DN', '6GC6_N', '4V6T_BN', '6WD4_n', '6ENJ_N', '6WDF_n', '4V69_BN', '4WF1_BN', '4WF1_DN', '6GXM_N', '4V7V_BN', '4V7V_DN', '7JSZ_n', '7LV0_n', '6WD6_n', '6ENU_N', '5NP6_l', '6BU8_16', '5UYM_16', '4V7U_BN', '4V7U_DN', '6H58_N', '6H58_NN', '5UYK_16', '4U24_BN', '4U24_DN', '7K51_n', '5MGP_N', '6WDB_n', '6WDE_n', '6WDL_n', '7BL6_N', '6WD5_n', '6VZJ_w', '5WDT_N', '6ORL_N', '6HRM_N', '6VZ7_w', '6VYX_w', '6OSK_N', '6VU3_w', '5WE4_N', '5WFS_N', '6OUO_N', '6OT3_N', '6ORE_N', '5WE6_N', '6OSQ_N', '7AC7_N', '7ACR_N', '6Q97_N', '5WFK_N', '7ACJ_N', '6VZ3_w', '6OST_N', '6Q9A_N', '5WF0_N', '7B5K_N', '7NSP_N', '7NSO_N', '6SPG_N', '6SPD_N', '7NSQ_N', '4V4W_BL', '4V4V_BL', '5MMM_O', '5MLC_P', '5MMI_O', '6ERI_AN', '5H1S_P', '5X8T_O', '5X8P_O', '6YEF_Q', '4WFA_K', '5NRG_K', '6WQQ_Z', '5ND8_Q', '7NHL_Q', '7NHM_Q', '6WQN_Z', '4WFB_K', '6DDG_Z', '6SJ6_Q', '6WRU_Z', '5NGM_AL', '5HL7_K', '5HKV_K', '6DDD_Z', '5ND9_Q', '4WCE_K', '4WF9_K', '6WRS_Z', '5T7V_LQ', '6S13_L', '7ASM_L', '7ASP_L', '6S0X_L', '6FXC_AL', '6FXC_BL', '6S0Z_L', '6S12_L', '6HMA_L', '5LI0_Q', '5TCU_LQ', '7ASO_Q', '7NHN_Q', '7NHK_Q', '5MYJ_BQ', '6W6P_O', '6WU9_O', '6O8Z_O', '6O8X_O', '6O8W_O', '6O90_O', '6O8Y_O', '6PPF_N', '7AQC_N', '6PVK_N', '6TPQ_g', '6TNN_g', '7AQD_N', '7OPE_R', '6HA8_N', '7AS8_R', '6HA1_N', '3J9W_BQ', '7AS9_R', '6PPK_N', '3J3W_N', '3J3V_N', '5NJT_g', '6HTQ_N', '6DZI_O', '3IY9_S', '2FTC_J', '4WRA_98', '4WRA_55', '4V8J_BR', '4V8J_DR', '1VY6_BR', '1VY6_DR', '4V6A_BR', '4V6A_DR', '5FDU_1R', '5FDU_2R', '4V5J_BR', '4V5J_DR', '6NSH_RR', '6NSH_YR', '5EL4_98', '5EL4_55', '4ZER_1R', '4ZER_2R', '4W2I_BR', '4W2I_DR', '5HD1_1R', '5HD1_2R', '6CFJ_1R', '6CFJ_2R', '5HAU_1P', '5HAU_2P', '4L47_RR', '4L47_YR', '6XHY_1R', '6XHY_2R', '5E81_98', '5E81_55', '1VY4_BR', '1VY4_DR', '4L71_RR', '4L71_YR', '4W2H_BR', '4W2H_DR', '6OXI_RR', '6OXI_YR', '7LH5_BR', '7LH5_DR', '4Y4P_1R', '4Y4P_2R', '5NDK_98', '5NDK_55', '4V4T_BR', '4W2F_BR', '4W2F_DR', '4P70_RR', '4P70_YR', '6B4V_O', '6B4V_SB', '4V8H_BR', '4V8H_DR', '4V87_A0', '4V87_D0', '4W4G_RR', '4W4G_YR', '5WIT_1R', '5WIT_2R', '5DOY_1R', '5DOY_2R', '6OXA_RR', '6OXA_YR', '5HCQ_1R', '5HCQ_2R', '4Z3S_1R', '4Z3S_2R', '6GSL_98', '6GSL_55', '7RQ8_1R', '7RQ8_2R', '4V97_BR', '4V97_DR', '6N9F_1R', '6N9F_2R', '6XHX_1R', '6XHX_2R', '4V7L_BR', '4V7L_DR', '5D8B_L', '5D8B_HB', '5VP2_1R', '5VP2_2R', '1VY7_BR', '1VY7_DR', '4Y4O_1R', '4Y4O_2R', '5W4K_1R', '5W4K_2R', '4V5E_BR', '4V5E_DR', '6FKR_1R', '6FKR_2R', '4V8O_BR', '4V5R_BR', '4V5R_DR', '5E7K_98', '5E7K_55', '6NWY_RR', '6NWY_YR', '6XQD_1R', '6XQD_2R', '4V5G_BR', '4V5G_DR', '5NDJ_98', '5NDJ_55', '4V51_BR', '4V51_DR', '6BOH_O', '6BOH_TB', '4WZD_98', '4WZD_55', '4V8I_BR', '4V8I_DR', '4V5D_BR', '4V5D_DR', '4V9S_BR', '4V9S_DR', '4V5L_BR', '5IB7_98', '5IB7_55', '6BZ8_RR', '6BZ8_YR', '5OT7_s', '4V8G_BR', '4V8G_DR', '4V7J_AR', '4V7J_BR', '7MD7_1R', '7MD7_2R', '5EL6_98', '5EL6_55', '7JQL_1R', '7JQL_2R', '6NDK_RR', '6NDK_YR', '4TUB_RR', '4TUB_YR', '4V5F_BR', '4V5F_DR', '6CFL_1R', '6CFL_2R', '5ZLU_k', '4WQU_AR', '4WQU_CR', '4WT1_98', '4WT1_55', '6XQE_1R', '6XQE_2R', '1VVJ_RR', '1VVJ_YR', '5WIS_1R', '5WIS_2R', '5J8B_R', '4V8X_BR', '4V8X_DR', '5HCP_1R', '5HCP_2R', '6BOK_O', '6BOK_RB', '4V8Q_AR', '4V9H_BR', '6GSK_98', '6GSK_55', '4V4X_BQ', '6CFK_1R', '6CFK_2R', '4V7X_BR', '4V7X_DR', '4LFZ_RR', '4LFZ_YR', '6QNQ_98', '6QNQ_55', '4V5N_BR', '4V95_BR', '4V95_DR', '6UCQ_1R', '6UCQ_2R', '5J4B_1R', '5J4B_2R', '4V8C_A0', '4V8C_B0', '4V8N_BR', '4V8N_DR', '4WZO_98', '4WZO_55', '4V9R_BR', '4V9R_DR', '4WU1_98', '4WU1_55', '5EL5_98', '5EL5_55', '6N1D_AL17', '6N1D_BL17', '4LSK_RR', '4LSK_YR', '5VPP_RR', '5VPP_YR', '5J30_RR', '5J30_YR', '5HCR_1R', '5HCR_2R', '6OSI_RR', '6OSI_YR', '5IMQ_j', '6QNR_98', '6QNR_55', '5J4D_O', '5J4D_TB', '4TUC_RR', '4TUC_YR', '4V5M_BR', '4V4S_BR', '6CZR_1R', '6CZR_2R', '6ORD_RR', '6ORD_YR', '4WQY_AR', '4WQY_CR', '7JQM_1R', '7JQM_2R', '6XHW_1R', '6XHW_2R', '4LT8_RR', '4LT8_YR', '4LNT_RR', '4LNT_YR', '6XHV_1R', '6XHV_2R', '4LEL_RR', '4LEL_YR', '5FDV_1R', '5FDV_2R', '4YZV_RR', '4YZV_YR', '4V8A_AR', '4V8A_BR', '5J3C_RR', '5J3C_YR', '6NTA_RR', '6NTA_YR', '6N9E_1R', '6N9E_2R', '4WR6_98', '4WR6_55', '6ND6_1R', '6ND6_2R', '5IMR_j', '4TUE_RR', '4TUE_YR', '6CAE_1R', '6CAE_2R', '4V4P_A0', '4V67_BR', '4V67_DR', '4Z8C_1R', '4Z8C_2R', '4V8F_A0', '4V8F_D0', '4W2E_R', '6NUO_RR', '6NUO_YR', '6O3M_RR', '6O3M_YR', '5EL7_98', '5EL7_55', '4V5P_BR', '4V5P_DR', '5UQ8_R', '4V4Y_BQ', '5IB8_98', '5IB8_55', '4W2G_BR', '4W2G_DR', '4WQ1_98', '4WQ1_55', '6UO1_1R', '6UO1_2R', '6OPE_RR', '6OPE_YR', '4V4Z_BQ', '4V8E_A0', '4V8E_C0', '4WPO_AR', '4WPO_CR', '4WSD_98', '4WSD_55', '4V8B_B0', '4V8B_D0', '6OF6_RR', '6OF6_YR', '4TUD_RR', '4TUD_YR', '4V5A_BR', '4V5A_DR', '4ZSN_RR', '4ZSN_YR', '4P6F_RR', '4P6F_YR', '4V7Y_BR', '4V7Y_DR', '4V5S_BR', '4V5S_DR', '4V6F_A0', '4V6F_D0', '5DFE_YR', '5DFE_RR', '5DOX_1R', '5DOX_2R', '1GD8_A', '1GD8_B', '1GD8_C', '1GD8_D', '1GD8_E', '1GD8_F', '1GD8_G', '1GD8_H', '1GD8_I', '4TUA_RR', '4TUA_YR', '6GSJ_98', '6GSJ_55', '7RQ9_1R', '7RQ9_2R', '4V6G_B0', '4V6G_D0', '6O97_1R', '6O97_2R', '5VPO_RR', '5VPO_YR', '6BZ7_RR', '6BZ7_YR', '4V7Z_BR', '4V7Z_DR', '4WQF_AR', '4WQF_CR', '6OJ2_RR', '6OJ2_YR', '4V8D_B0', '4V8D_D0', '5CZP_YR', '5CZP_RR', '4V7M_BR', '4V7M_DR', '4V7K_AR', '4V7K_BR', '4WSM_98', '4WSM_55', '5V8I_1R', '5V8I_2R', '4V63_BR', '4V63_DR', '4V5K_BR', '4V5K_DR', '4V9B_B0', '4V9B_D0', '6BZ6_RR', '6BZ6_YR', '6ND5_1R', '6ND5_2R', '5F8K_1R', '5F8K_2R', '4V5Q_BR', '4V5Q_DR', '4V5C_BR', '4V5C_DR', '4V4I_L', '1VY5_BR', '1VY5_DR', '4V4R_BR', '5IBB_98', '5IBB_55', '4YPB_RR', '4YPB_YR', '5UQ7_R', '5J4C_1R', '5J4C_2R', '6C5L_BR', '6C5L_DR', '4V9A_B0', '4V9A_D0', '4V7W_BR', '4V7W_DR', '6BUW_RR', '6BUW_YR', '4WQR_98', '4WQR_55', '4WRO_98', '4V8U_BR', '4V8U_DR', '6OF1_1R', '6OF1_2R', '6OTR_RR', '6OTR_YR', '4V4J_L', '4V9M_BR', '4V9M_DR', '4V83_BN', '4V83_DN', '4V9N_BR', '4V9N_DR', '4V9J_BR', '4V9J_DR', '4V90_BR', '6Q95_N', '4XEJ_AL17', '4XEJ_BL17', '5A9Z_AO', '4V7P_BN', '4V7P_CN', '5AA0_AO', '4V84_BN', '4V84_DN', '6GZX_M1', '6GZX_M2', '4W29_BR', '4W29_DR', '6GZQ_M1', '4V9Q_AN', '4V9Q_CN', '4V9I_BR', '4V9I_DR', '4V9K_BR', '4V9K_DR', '4V9L_BR', '4V9L_DR', '6GZZ_M1', '6GZZ_M2', '4V68_BR', '4WT8_CQ', '4WT8_DQ']\n"
          ]
        }
      ],
      "source": [
        "file = open(\"/content/bc-30.out.txt\",\"r\")\n",
        "Entries=[]\n",
        "Entries_main=[]\n",
        "#Repeat for each song in the text file\n",
        "for line in file:\n",
        "  \n",
        "  #Let's split the line into an array called \"fields\" using the \";\" as a separator:\n",
        "  fields = line.split(\" \")\n",
        "  #print(len(fields))\n",
        "  for i in range(len(fields)):\n",
        "    if(fields[i][len(fields[i])-1]=='\\n'):\n",
        "      #print(fields[i])\n",
        "      Entries.append(fields[i][:-1])\n",
        "    else:\n",
        "      Entries.append(fields[i])\n",
        "  Entries_main.append(Entries)\n",
        "  Entries=[]\n",
        "print((Entries_main[49]))"
      ]
    },
    {
      "cell_type": "code",
      "execution_count": null,
      "metadata": {
        "id": "J_0rPUgZA0Ip"
      },
      "outputs": [],
      "source": [
        "import os\n",
        "import shutil\n",
        "\n",
        "for root, dirs, files in os.walk('/content/all_alpha_3rd/'):  # replace the . with your starting directory\n",
        "   for file in files:\n",
        "      path_file = os.path.join(root,file)\n",
        "      shutil.copy2(path_file,'/content/all_alpha_gml_data/') # change you destination dir"
      ]
    },
    {
      "cell_type": "code",
      "execution_count": null,
      "metadata": {
        "colab": {
          "base_uri": "https://localhost:8080/"
        },
        "id": "Ojd32QHk0MMp",
        "outputId": "7a73d1b4-fb0f-43de-c94a-c44c8c7bf16f"
      },
      "outputs": [
        {
          "name": "stdout",
          "output_type": "stream",
          "text": [
            "1157380\n"
          ]
        }
      ],
      "source": [
        "liso=os.listdir('/content/all_alpha_json/') \n",
        "#print(liso[:5])\n",
        "Dataset=[]\n",
        "chainlist=[] \n",
        "finalchainlist=[]\n",
        "print(len(liso))\n",
        "for i in range(len(liso)):\n",
        "    strw=liso[i]\n",
        " \n",
        "    #print(strc)\n",
        "    if((strw[7:] =='alpha_PG.json')):\n",
        "      path_file='/content/all_alpha_json/'+strw\n",
        "      shutil.copy2(path_file,'/content/all_alpha_json_data/')"
      ]
    },
    {
      "cell_type": "code",
      "execution_count": null,
      "metadata": {
        "colab": {
          "base_uri": "https://localhost:8080/"
        },
        "id": "JzZXGwqaZyvW",
        "outputId": "0c8ef268-83ce-44e5-b4f9-fffb58868fd3"
      },
      "outputs": [
        {
          "name": "stdout",
          "output_type": "stream",
          "text": [
            "342224\n"
          ]
        }
      ],
      "source": [
        "liso=os.listdir('/content/all_alpha_json_data/') \n",
        "#print(liso[:5])\n",
        "Dataset=[]\n",
        "chainlist=[] \n",
        "finalchainlist=[]\n",
        "print(len(liso))\n",
        " "
      ]
    },
    {
      "cell_type": "code",
      "execution_count": null,
      "metadata": {
        "id": "q4EtB5-dtQli"
      },
      "outputs": [],
      "source": [
        "import pandas as pd\n",
        "import shutil,os\n",
        "\n",
        "df = pd.read_csv ('/content/cath-domain-list.csv')\n",
        "#print(df)\n",
        "l1=[]\n",
        "l2=[]\n",
        "l3=[]\n",
        "l4=[]\n",
        "l5=[]\n",
        "l6=[]\n",
        "\n",
        "chainlist1=[]\n",
        " \n",
        "cereal_df = pd.read_csv(\"/content/cath-domain-list.csv\")\n",
        "cereal_df1 = pd.read_csv(\"/content/cath-domain-list.csv\")\n",
        "Domains_name=cereal_df[ 'Domains'].tolist()\n",
        "Class_id=cereal_df[ 'Class'].tolist()\n",
        "Arc_id=cereal_df[ 'Architecture'].tolist()\n",
        "Top_id=cereal_df[ 'Topology'].tolist()\n",
        "Sup_id=cereal_df[ 'Superfamily'].tolist()\n",
        "print( (Class_id[1]))\n",
        "print( len(Arc_id))\n",
        "for i in range(len(Class_id)):\n",
        "  if(Class_id[i]==1):\n",
        "    print(Domains_name[i][:-2])"
      ]
    },
    {
      "cell_type": "code",
      "execution_count": null,
      "metadata": {
        "id": "s_daX6gEc_NU"
      },
      "outputs": [],
      "source": [
        "!jar -xvf   '/content/drive/MyDrive/albe/albe.zip'\n",
        "!jar -xvf   '/content/drive/MyDrive/albe/albe_GML.zip'"
      ]
    },
    {
      "cell_type": "code",
      "execution_count": null,
      "metadata": {
        "id": "kwUuc_jY6oKi"
      },
      "outputs": [],
      "source": [
        "!jar -xvf   '/content/drive/MyDrive/all_alpha_2nd.zip'\n",
        "!jar -xvf   '/content/drive/MyDrive/all_alpha_3rd.zip'\n",
        "!jar -xvf   '/content/drive/MyDrive/all_alpha_gml_data.zip'\n",
        "!jar -xvf   '/content/drive/MyDrive/all_alpha_json_data.zip'"
      ]
    },
    {
      "cell_type": "code",
      "execution_count": null,
      "metadata": {
        "colab": {
          "base_uri": "https://localhost:8080/"
        },
        "id": "rPbxyeRDZEFS",
        "outputId": "a4352d84-b48d-4327-f85e-01b309c67c2a"
      },
      "outputs": [
        {
          "output_type": "stream",
          "name": "stdout",
          "text": [
            "276231\n"
          ]
        }
      ],
      "source": [
        "#SCOP_2.07 Classification\n",
        "import pandas as pd\n",
        "import shutil,os\n",
        "cereal_df = pd.read_csv(\"/content/scop_2.07.csv\")\n",
        "cereal_df1 = pd.read_csv(\"/content/scop_2.07.csv\")\n",
        "chain_name=cereal_df[ 'Chain'].tolist()\n",
        "fold_id=cereal_df[ 'Fold'].dropna().tolist()\n",
        "fold_id=fold_id[:1232]\n",
        "fold_rid=cereal_df[ 'Column1'].tolist()\n",
        "print( len(fold_rid))"
      ]
    },
    {
      "cell_type": "code",
      "execution_count": null,
      "metadata": {
        "colab": {
          "base_uri": "https://localhost:8080/"
        },
        "id": "ugbRvezBbIwy",
        "outputId": "bd3dccd7-0092-4c7a-dff1-7ff5b90c3802"
      },
      "outputs": [
        {
          "output_type": "stream",
          "name": "stdout",
          "text": [
            "['53932', '53954', '54000', '54059', '54075', '54097', '54105', '54110', '54116', '54170', '54183', '54188', '54196', '54210', '54235', '54372', '54402', '54446', '54451', '54494', '54505', '54510', '54517', '54522', '54528', '54533', '54564', '54569', '54574', '54579', '54584', '54592', '54610', '54615', '54620', '54625', '54630', '54636', '54647', '54653', '54664', '54694', '54712', '54718', '54735', '54746', '54751', '54761', '54767', '54790', '54805', '54820', '54825', '54842', '54848', '54856', '54861', '55128', '55135', '55143', '55148', '55153', '55158', '55165', '55173', '55185', '55199', '55220', '55228', '55233', '55238', '55247', '55266', '55276', '55281', '55286', '55297', '55330', '55346', '55382', '55393', '55398', '55404', '55417', '55423', '55454', '55463', '55468', '55480', '55485', '55549', '55593', '55603', '55619', '55636', '55647', '55652', '55657', '55665', '55670', '55675', '55680', '55710', '55717', '55723', '55728', '55752', '55769', '55796', '55803', '55810', '55815', '55820', '55825', '55830', '55845', '55855', '55868', '55873', '55889', '55894', '55903', '55908', '55919', '55930', '55944', '55972', '55978', '56002', '56013', '56018', '56023', '56028', '56041', '56046', '56052', '56058', '56103', '56111', '56175', '56193', '56198', '56203', '56208', '56213', '56218', '56227', '56234', '56265', '56270', '56275', '56280', '56299', '56316', '56321', '56326', '56348', '56365', '56370', '56398', '56419', '56424', '56435', '56486', '56495', '56501', '56506', '56511', '56518', '56523', '56528', '56533', '56541', '56547', '56552', '56557', '56562', '56567', '63410', '64209', '64233', '64262', '64267', '64287', '64375', '64396', '64437', '64448', '64464', '68929', '69634', '69651', '69686', '69694', '69704', '69720', '69753', '69760', '69785', '69795', '69818', '69847', '69863', '74651', '74652', '75403', '75411', '75552', '75573', '63762', '81302', '81607', '81661', '82601', '82606', '82614', '82648', '82713', '82770', '82783', '82807', '82828', '88797', '88873', '89816', '89871', '89889', '89894', '89914', '90001', '90063', '90072', '100878', '100965', '102740', '102823', '102828', '102847', '102859', '102874', '102885', '102890', '103024', '103031', '103038', '103062', '103067', '103144', '103164', '103255', '103262', '103276', '103358', '103364', '103369', '100886', '56746', '100877', '110782', '110835', '110848', '110856', '110920', '110941', '111005', '111037', '111056', '111063', '111068', '111073', '111125', '111147', '111248', '111264', '111277', '111282', '109622', '64495', '116725', '116733', '117772', '117838', '117855', '118000', '118115', '118172', '142876', '142896', '142912', '142920', '143010', '143020', '143025', '143033', '143075', '143080', '143099', '143112', '143119', '143242', '143436', '143446', '143455', '143468', '143476', '143491', '143502', '143516', '143559', '143566', '143586', '143591', '143596', '143601', '143723', '143748', '143790', '143799', '143846', '143855', '143864', '143869', '143874', '143879', '143884', '143967', '143974', '143984', '143989', '143994', '143999', '144004', '144009', '144014', '159901', '159940', '160058', '160087', '160098', '160103', '160112', '160147', '160190', '160206', '160213', '160218', '160271', '160373', '160378', '160386', '160418', '160423', '160447', '160452', '160458', '160471', '160476', '160531', '160536', '160543', '160569', '160630', '160695', '160703', '160712', '160718', '160760', '160765', '160799', '160886', '160891', '160896', '160903', '160908', '160919', '160924', '254114', '254117', '254118', '254119', '267590', '310556', '310562', '310567', '310570', '345890', '345891', '345892']\n"
          ]
        }
      ],
      "source": [
        "#all Alpha\n",
        "#SCOP_2.07 Classification\n",
        "file = open(\"/content/all_Alpha+Beta.txt\", \"rb\")\n",
        "delnode = file.readlines()\n",
        "list_alpha=[]\n",
        "i=0\n",
        "\n",
        "while (i<len(delnode)):\n",
        "  str1=str(delnode[i])\n",
        "\n",
        "  index_st = str1.find('[')\n",
        "  index_ed = str1.find(']')\n",
        "  if(index_ed>0):\n",
        "    str1=str1[(index_st+1):index_ed]\n",
        "    if((len(str1)<=6)and(len(str1)>4)):\n",
        "      list_alpha.append(str1)\n",
        "  \n",
        "  i=i+1\n",
        "  #print((str1))\n",
        "print((list_alpha))"
      ]
    },
    {
      "cell_type": "code",
      "execution_count": null,
      "metadata": {
        "colab": {
          "base_uri": "https://localhost:8080/"
        },
        "id": "wkMYNA4UaQXM",
        "outputId": "0a1ae840-b297-49e0-9ad9-a2ef1c918f88"
      },
      "outputs": [
        {
          "output_type": "stream",
          "name": "stdout",
          "text": [
            "388\n"
          ]
        }
      ],
      "source": [
        "#SCOP_2.07 Classification\n",
        "j=0\n",
        "list_super=[]\n",
        "list_fold=[]\n",
        "list_superfamily=[]\n",
        "l=cereal_df['Column1'].tolist()\n",
        "\n",
        "while (j<len(l)):\n",
        "    #print(type(l[j]))\n",
        "    if(int(list_alpha[0])==l[j]):\n",
        "      list_superfamily.append(cereal_df['Column2'][j])\n",
        "      j=j\n",
        "      break\n",
        "\n",
        "    j=j+1\n",
        "for i in range(len(list_alpha)):\n",
        "  list_superfamily=[]\n",
        "  #print(type(int(list_alpha[i])))\n",
        "  while (j<len(l)):\n",
        "    #print(type(l[j]))\n",
        "    if(int(list_alpha[i])==l[j]):\n",
        "      list_superfamily.append(cereal_df['Column2'][j])\n",
        "      \n",
        "    if(int(list_alpha[i])!=cereal_df['Column1'][j]):\n",
        "      sf=set(list_superfamily)\n",
        "      sl=list(sf)\n",
        "      list_super.append(sl)\n",
        "      list_fold.append(cereal_df['Column1'][j])\n",
        "      #print(len(sl))\n",
        "      j=j\n",
        "      break\n",
        "    j=j+1\n",
        "#list_fold.append(cereal_df['Column1'][1])\n",
        "list_fold=sorted(list_fold)\n",
        "print(len(list_fold))"
      ]
    },
    {
      "cell_type": "code",
      "execution_count": null,
      "metadata": {
        "id": "iWbN-i0osdCf",
        "colab": {
          "base_uri": "https://localhost:8080/"
        },
        "outputId": "072ac7e7-010f-4c5e-dcab-bcd642c895a8"
      },
      "outputs": [
        {
          "output_type": "stream",
          "name": "stdout",
          "text": [
            "53954\n"
          ]
        }
      ],
      "source": [
        "#SCOP_2.07 Classification##\n",
        "import shutil,os\n",
        "l=cereal_df['Column2'].tolist()\n",
        "count=0\n",
        "superfamily_list=[]\n",
        "j=0\n",
        "chainlist=[]\n",
        "chainlist1=[]\n",
        "chainlist2=[]\n",
        "liso=os.listdir('/content/all_alpha_json_data/') \n",
        "lisos=os.listdir('/content/albe_GML/') \n",
        "l1=[]\n",
        "#str1=int(list_alpha[0])\n",
        "chain_name_counter=[]\n",
        "Dataset=[]\n",
        "dataset=[]\n",
        "datalabel=[]\n",
        "f = open('/content/filelist.txt', 'w')\n",
        "print(list_fold[0])\n",
        "#list_fold=list_fold[13:15]\n",
        "for k in range(len(list_fold)):\n",
        "  #print(list_super[k])\n",
        "  # for i in range(len(list_fold[k])):\n",
        "   \n",
        "  l1=list(cereal_df['Chain'][cereal_df['Column1']==list_fold[k]])\n",
        "  for i  in range(len(l1)):\n",
        "    f.write(\"Fold Number: \"+str(k+1)+\"- \"+l1[i][:4]+'_'+l1[i][5]+'\\n')\n",
        "\n",
        "     \n",
        "# #l1=list(cereal_df['Chain'][cereal_df['Column1']==list_fold[0]])\n",
        "#   #print(len(l1))\n",
        "#     # count=0\n",
        "# #l1=set(list(cereal_df['Column1']))\n",
        "#   #print(len(l1))      \n",
        "#   for j in range(len(l1)):\n",
        "#         #if((count<=10)):\n",
        "#           strw=l1[j][:4]+'_'+l1[j][5:]+'_albe_PG.json'\n",
        "#           strx=l1[j][:4]+'_'+l1[j][5:]+'_albe_PG.gml'\n",
        "#           strq=l1[j][:4]+l1[j][5:]\n",
        "#           strc='/content/all_alpha_json_data/'+strw\n",
        "#           strd='/content/albe_GML/'+strx\n",
        "#           chainname=l1[j][:4]+'_'+l1[j][5:]\n",
        "#           chainname=(chainname.upper())\n",
        "#           #print(strw)\n",
        "#           #print(strx)\n",
        "#           if((strw in liso )and (strx in lisos)  ):\n",
        "#             #print(chainname)\n",
        "#             for s in range(len(Entries_main)):\n",
        "              \n",
        "#               if((chainname in Entries_main[s] ) ):\n",
        "#                 if((s not in chain_name_counter)):\n",
        "                  \n",
        "#               #if( (chainname.upper() in Entries ) ):\n",
        "#               #if((l1[j][:4] not in chainlist) ):\n",
        "#                   chain_name_counter.append(s)\n",
        "#                   chainlist.append(l1[j][:4])\n",
        "                  \n",
        "#                   #print(strd)\n",
        "#                   #shutil.copy(strc,'/content/alph5')\n",
        "#                   #f.write(\"Fold Number: \"+str(k+1)+\"- \"+l1[j][:4]+'_'+l1[j][5]+'\\n')\n",
        "#                   data=json_toData_(k,strc,strd)\n",
        "#                   dataset.append(strc)\n",
        "#                   datalabel.append(k)\n",
        "#                   Dataset.append(data)\n",
        "#                   count=count+1\n",
        "   \n",
        "      \n",
        "#       #print(count)\n",
        "# print(len(datalabel)) \n",
        "# print(len(Dataset))"
      ]
    },
    {
      "cell_type": "code",
      "execution_count": null,
      "metadata": {
        "id": "wYyXTj-5Oi1l"
      },
      "outputs": [],
      "source": [
        "print(list_fold[242])\n",
        "print(((Entries_main[12074])))"
      ]
    },
    {
      "cell_type": "code",
      "execution_count": null,
      "metadata": {
        "id": "dF9qtyf_b9fq"
      },
      "outputs": [],
      "source": [
        "#SCOP_2.07 Classification\n",
        "import shutil,os\n",
        "l=cereal_df['Column2'].tolist()\n",
        "count=0\n",
        "superfamily_list=[]\n",
        "j=0\n",
        "chainlist=[]\n",
        "chainlist1=[]\n",
        "chainlist2=[]\n",
        "liso=os.listdir('/content/all_alpha_json_data/') \n",
        "lisos=os.listdir('/content/all_alpha_gml_data/') \n",
        "#str1=int(list_alpha[0])\n",
        "chain_name_counter=[]\n",
        "Dataset=[]\n",
        "dataset=[]\n",
        "datalabel=[]\n",
        "#f = open('/content/filelist.txt', 'w')\n",
        "for k in range(len(list_super)):\n",
        "  \n",
        "  for i in range(len(list_super[k])):\n",
        "    l1=list(cereal_df['Chain'][cereal_df['Column2']==list_super[k][i]])\n",
        "     \n",
        "    #print(len(l1))\n",
        "    count=0\n",
        " \n",
        "      \n",
        "    for j in range(len(l1)):\n",
        "        #if((count<=10)):\n",
        "          strw=l1[j][:4]+'_'+l1[j][5]+'_alpha_PG.json'\n",
        "          strx=l1[j][:4]+'_'+l1[j][5]+'_alpha_PG.gml'\n",
        "          strq=l1[j][:4]+l1[j][5]\n",
        "          strc='/content/all_alpha_json_data/'+strw\n",
        "          strd='/content/all_alpha_gml_data/'+strx\n",
        "          chainname=l1[j][:4]+'_'+l1[j][5]\n",
        "          if((strw in liso )and (strx in lisos)  ):\n",
        "            for s in range(len(Entries_main)):\n",
        "              if((chainname.upper() in Entries_main[s] ) and (s not in chain_name_counter)):\n",
        "\n",
        "            #if( (chainname.upper() in Entries ) ):\n",
        "            #if((l1[j][:4] not in chainlist) ):\n",
        "                chain_name_counter.append(s)\n",
        "                chainlist.append(l1[j][:4])\n",
        "                \n",
        "                print(strd)\n",
        "                #shutil.copy(strc,'/content/alph5')\n",
        "                #f.write(\"Fold Number: \"+str(k+1)+\"- \"+l1[j][:4]+'_'+l1[j][5]+'\\n')\n",
        "                data=json_toData_(k,strc,strd)\n",
        "                dataset.append(strc)\n",
        "                datalabel.append(k)\n",
        "                Dataset.append(data)\n",
        "                count=count+1\n",
        "   \n",
        "      \n",
        "      #print(count)\n",
        "print(len(datalabel)) \n",
        "print(len(Dataset))"
      ]
    },
    {
      "cell_type": "code",
      "execution_count": null,
      "metadata": {
        "colab": {
          "base_uri": "https://localhost:8080/"
        },
        "id": "kMYwPmzsrcMO",
        "outputId": "072bbe95-8e89-4480-df3b-cf17c3e02b92"
      },
      "outputs": [
        {
          "name": "stdout",
          "output_type": "stream",
          "text": [
            "373\n",
            "50\n",
            "87\n",
            "97\n",
            "127\n",
            "128\n",
            "132\n",
            "139\n"
          ]
        }
      ],
      "source": [
        "print(len(set(datalabel))) \n",
        "for i in range(149):\n",
        "  if(i not in datalabel):\n",
        "    print(i)"
      ]
    },
    {
      "cell_type": "code",
      "execution_count": null,
      "metadata": {
        "id": "dy9CdxuVg-78"
      },
      "outputs": [],
      "source": [
        "#CATH Classification\n",
        "import shutil,os\n",
        "domain_count=0\n",
        "chainlist=[]\n",
        "l1=[]\n",
        "l2=[]\n",
        "chain_name_counter=[]\n",
        "for i in range(len(Domains_name)):\n",
        "\n",
        "    if((Class_id[i]==3)&(Arc_id[i]==60)  ):\n",
        "        #domain_count=domain_count+1\n",
        "        #if((domain_count<=100 )):\n",
        "        #if((domain_count>100 )&(domain_count<=170 )):\n",
        "          #print(domain_count)\n",
        "          chainname=Domains_name[i][:4]+'_'+Domains_name[i][4]\n",
        "          #print(chainname)\n",
        "          \n",
        "          for s in range(len(Entries_main)):\n",
        "              if((chainname.upper() in Entries_main[s] ) and (s not in chain_name_counter)):\n",
        "                chain_name_counter.append(s)\n",
        "                chainlist.append(Domains_name[i][:3])\n",
        "                l1.append(Domains_name[i][:-2])\n",
        "                l2.append(Top_id[i])\n",
        "                domain_count=domain_count+1\n",
        "\n",
        "\n",
        "#l3=sorted(set(l2))\n",
        "\n"
      ]
    },
    {
      "cell_type": "code",
      "execution_count": null,
      "metadata": {
        "colab": {
          "base_uri": "https://localhost:8080/"
        },
        "id": "IS4e-G4CSX88",
        "outputId": "c8e9f119-e5d2-46d7-c7da-2f2366b4dc0c"
      },
      "outputs": [
        {
          "output_type": "stream",
          "name": "stdout",
          "text": [
            "['4z3xA', '3g91A', '4lndA', '4ruwA', '2imqX', '5ht2A', '4f1rA', '2ddrA', '3l1wA', '2a40B', '3mprB', '3g6sA', '2f1nA', '1vybA', '4gewA', '4a9cA', '2xswB', '3ngqA', '1i9zA', '2ei9A', '1wduB', '3tebB', '2j63A', '5xp6A', '5naiA', '3dhaA', '5ew0A', '2gcuB', '5ve3A', '1zkpC', '3g1pA', '5wcmA', '5nggA', '5v8sA', '5q22A', '5ahoA', '2qedA', '3rpcA', '6aufB', '3md7A', '2p18A', '4v0hD', '6frnA', '4d02A', '4zo2A', '3adrB', '3x30A', '3zwfA', '2p97A', '3aj3A', '4fekB', '6n9iA', '3iekA', '4yslA', '4le6D', '2zo4A', '3r2uB', '1ztcA', '2vw8A', '2e7yB', '3kl7A', '2zwrB', '2az4A', '1vjnA', '1y44A', '4z67A', '4xwwB', '2p4zA', '3eshA', '4ad9A', '1wraA', '2bibA', '3h3eA', '2xr1A', '2i7xA', '2wylC', '4nurA', '4zflD', '2imhA', '5le5A', '6avob', '4r67k', '5m32H', '3unbi', '6qm7S', '5le5E', '4r67h', '6qm7F', '5le5M', '5m32M', '6avoa', '1ryp2', '1ryp1', '5le5L', '6qm7M', '1xffA', '4amvA', '4r17F', '1rypL', '3nzjK', '6qm7L', '5m32N', '3mdnD', '3mi02', '2jayA', '5trga', '6bglb', '3wxrY', '1jgtB', '4wksC', '1or0B', '1te5A', '1gk9B', '1ct9A', '1q15A', '1g3kA', '4hstB', '6czfA', '4e57A', '5fmgH', '5fmgN', '1ofdA', '2ntkB', '6nq6B', '4pv2B', '5xluB', '3rl5A', '5uq6A', '5inbA', '5jpfA', '4i5lC', '2wdcA', '3h63A', '4ja7A', '3ib7A', '2hy1A', '2z72A', '4ltyA', '3gveA', '4j6oA', '4b2oA', '2z06A', '2yvtA', '4h2gA', '3iveA', '2nxfA', '4nzvA', '3thoB', '3tghA', '3ztvA', '3qfmA', '4q7fA', '2xmoA', '1nnwB', '4fbwB', '4fbkB', '4ykeA', '6hwrA', '3c9fA', '3rqzC', '1ii7A', '5w8mB', '4f0zA', '1auiA', '4il1A', '2a22B', '2qjcA', '1uf3A', '1g5bB', '2dfjA', '1su1A', '3av0A', '3auzA', '1xm7A', '3ck2A', '1s3lA', '2ahdA', '2kknA', '3d03A', '3e0jC', '3floA', '2yeqA', '2jfrA', '4jndA', '4yzgA', '4ragA', '3kdjB', '4oicB', '3w42A', '3pu9A', '2i44B', '2iq1A', '4da1A', '2isnB', '3zt9A', '3rnrB', '2pnqA', '3ke6B', '2j4oA', '3t91B', '3f79E', '3eq2B', '3d8kD', '4iikA', '5gs7A', '2bjfA', '2x1dA', '3hbcA', '3gvzA', '3fgrB', '4bwcB', '3fbxA', '5y0mA', '3n2wD', '4iheA', '3it4A', '1vraA', '1vz6A', '2v4iA', '5tvoA', '3ep6A', '1jl0A', '1vr7A', '2iiiA', '1hq0A', '4lf0A', '1uf5A', '5jqnA', '2w1vA', '2dyuA', '4hg5C', '1emsA', '5h8iB', '4f4hB', '2e11A', '3p8kA', '3sdbA', '3ilvA', '4cyfA', '3wuyA', '2vhhA', '3st6C', '2fn0B', '3h9mA', '3bzmA', '1k0eB', '5cwaA', '5jxzA', '3r75B', '4grhA', '1ds1A', '4c5wA', '5hsxB', '1oihB', '1jr7A', '6gpnA', '4ylmX', '4oj8B', '2q4aA', '3kt7A', '5cg8A', '4lt5A', '1rv9A', '1xfjA', '1q1lA', '1pg6A']\n",
            "266\n",
            "[9, 10, 10, 10, 10, 10, 10, 10, 10, 10, 10, 10, 10, 10, 10, 10, 10, 10, 10, 10, 10, 10, 10, 15, 15, 15, 15, 15, 15, 15, 15, 15, 15, 15, 15, 15, 15, 15, 15, 15, 15, 15, 15, 15, 15, 15, 15, 15, 15, 15, 15, 15, 15, 15, 15, 15, 15, 15, 15, 15, 15, 15, 15, 15, 15, 15, 15, 15, 15, 15, 15, 15, 15, 15, 15, 15, 15, 20, 20, 20, 20, 20, 20, 20, 20, 20, 20, 20, 20, 20, 20, 20, 20, 20, 20, 20, 20, 20, 20, 20, 20, 20, 20, 20, 20, 20, 20, 20, 20, 20, 20, 20, 20, 20, 20, 20, 20, 20, 20, 20, 20, 20, 20, 20, 20, 20, 21, 21, 21, 21, 21, 21, 21, 21, 21, 21, 21, 21, 21, 21, 21, 21, 21, 21, 21, 21, 21, 21, 21, 21, 21, 21, 21, 21, 21, 21, 21, 21, 21, 21, 21, 21, 21, 21, 21, 21, 21, 21, 21, 21, 21, 21, 21, 21, 21, 21, 21, 21, 21, 21, 21, 21, 40, 40, 40, 40, 40, 40, 40, 40, 40, 40, 40, 40, 40, 40, 40, 40, 40, 40, 40, 40, 40, 40, 60, 60, 60, 60, 60, 60, 60, 60, 70, 70, 70, 70, 70, 70, 70, 90, 90, 90, 90, 90, 100, 110, 110, 110, 110, 110, 110, 110, 110, 110, 110, 110, 110, 110, 110, 110, 110, 120, 120, 120, 120, 120, 120, 120, 120, 120, 130, 130, 130, 130, 130, 130, 130, 130, 130, 130, 130, 130, 140, 140, 150, 160]\n",
            "16\n"
          ]
        }
      ],
      "source": [
        "print( (l1))\n",
        "print(len(l2))\n",
        "l3=sorted(set(l2))\n",
        "print((l2))\n",
        "print(len(l3))\n"
      ]
    },
    {
      "cell_type": "code",
      "execution_count": null,
      "metadata": {
        "colab": {
          "base_uri": "https://localhost:8080/"
        },
        "id": "GzkWYl7zlxGw",
        "outputId": "494d1b8e-c26a-4cf1-a50c-0a31210ec409"
      },
      "outputs": [
        {
          "output_type": "stream",
          "name": "stdout",
          "text": [
            "Mounted at /content/drive\n"
          ]
        }
      ],
      "source": [
        "from google.colab import files\n",
        "from google.colab import drive\n",
        "drive.mount('/content/drive')\n",
        "#files.download('/content/drive/MyDrive/albe/albe.zip')"
      ]
    },
    {
      "cell_type": "code",
      "execution_count": null,
      "metadata": {
        "id": "vcxBSGw7_RX0",
        "colab": {
          "base_uri": "https://localhost:8080/"
        },
        "outputId": "00a1888a-0388-4892-9486-b0d085497a1b"
      },
      "outputs": [
        {
          "output_type": "stream",
          "name": "stdout",
          "text": [
            "['4z3xA', '3g91A', '4lndA', '4ruwA', '2imqX', '5ht2A', '4f1rA', '2ddrA', '3l1wA', '2a40B', '3mprB', '3g6sA', '2f1nA', '1vybA', '4gewA', '4a9cA', '2xswB', '3ngqA', '1i9zA', '2ei9A', '1wduB', '3tebB', '2j63A', '5xp6A', '5naiA', '3dhaA', '5ew0A', '2gcuB', '5ve3A', '1zkpC', '3g1pA', '5wcmA', '5nggA', '5v8sA', '5q22A', '5ahoA', '2qedA', '3rpcA', '6aufB', '3md7A', '2p18A', '4v0hD', '6frnA', '4d02A', '4zo2A', '3adrB', '3x30A', '3zwfA', '2p97A', '3aj3A', '4fekB', '6n9iA', '3iekA', '4yslA', '4le6D', '2zo4A', '3r2uB', '1ztcA', '2vw8A', '2e7yB', '3kl7A', '2zwrB', '2az4A', '1vjnA', '1y44A', '4z67A', '4xwwB', '2p4zA', '3eshA', '4ad9A', '1wraA', '2bibA', '3h3eA', '2xr1A', '2i7xA', '2wylC', '4nurA', '4zflD', '2imhA', '5le5A', '6avob', '4r67k', '5m32H', '3unbi', '6qm7S', '5le5E', '4r67h', '6qm7F', '5le5M', '5m32M', '6avoa', '1ryp2', '1ryp1', '5le5L', '6qm7M', '1xffA', '4amvA', '4r17F', '1rypL', '3nzjK', '6qm7L', '5m32N', '3mdnD', '3mi02', '2jayA', '5trga', '6bglb', '3wxrY', '1jgtB', '4wksC', '1or0B', '1te5A', '1gk9B', '1ct9A', '1q15A', '1g3kA', '4hstB', '6czfA', '4e57A', '5fmgH', '5fmgN', '1ofdA', '2ntkB', '6nq6B', '4pv2B', '5xluB', '3rl5A', '5uq6A', '5inbA', '5jpfA', '4i5lC', '2wdcA', '3h63A', '4ja7A', '3ib7A', '2hy1A', '2z72A', '4ltyA', '3gveA', '4j6oA', '4b2oA', '2z06A', '2yvtA', '4h2gA', '3iveA', '2nxfA', '4nzvA', '3thoB', '3tghA', '3ztvA', '3qfmA', '4q7fA', '2xmoA', '1nnwB', '4fbwB', '4fbkB', '4ykeA', '6hwrA', '3c9fA', '3rqzC', '1ii7A', '5w8mB', '4f0zA', '1auiA', '4il1A', '2a22B', '2qjcA', '1uf3A', '1g5bB', '2dfjA', '1su1A', '3av0A', '3auzA', '1xm7A', '3ck2A', '1s3lA', '2ahdA', '2kknA', '3d03A', '3e0jC', '3floA', '2yeqA', '2jfrA', '4jndA', '4yzgA', '4ragA', '3kdjB', '4oicB', '3w42A', '3pu9A', '2i44B', '2iq1A', '4da1A', '2isnB', '3zt9A', '3rnrB', '2pnqA', '3ke6B', '2j4oA', '3t91B', '3f79E', '3eq2B', '3d8kD', '4iikA', '5gs7A', '2bjfA', '2x1dA', '3hbcA', '3gvzA', '3fgrB', '4bwcB', '3fbxA', '5y0mA', '3n2wD', '4iheA', '3it4A', '1vraA', '1vz6A', '2v4iA', '5tvoA', '3ep6A', '1jl0A', '1vr7A', '2iiiA', '1hq0A', '4lf0A', '1uf5A', '5jqnA', '2w1vA', '2dyuA', '4hg5C', '1emsA', '5h8iB', '4f4hB', '2e11A', '3p8kA', '3sdbA', '3ilvA', '4cyfA', '3wuyA', '2vhhA', '3st6C', '2fn0B', '3h9mA', '3bzmA', '1k0eB', '5cwaA', '5jxzA', '3r75B', '4grhA', '1ds1A', '4c5wA', '5hsxB', '1oihB', '1jr7A', '6gpnA', '4ylmX', '4oj8B', '2q4aA', '3kt7A', '5cg8A', '4lt5A', '1rv9A', '1xfjA', '1q1lA', '1pg6A']\n",
            "/content/all_alpha_json_data/4z3x_A_albe_PG.json\n",
            "/content/all_alpha_json_data/3g91_A_albe_PG.json\n",
            "/content/all_alpha_json_data/4lnd_A_albe_PG.json\n",
            "/content/all_alpha_json_data/4ruw_A_albe_PG.json\n",
            "/content/all_alpha_json_data/2imq_X_albe_PG.json\n",
            "/content/all_alpha_json_data/5ht2_A_albe_PG.json\n",
            "/content/all_alpha_json_data/4f1r_A_albe_PG.json\n",
            "/content/all_alpha_json_data/2ddr_A_albe_PG.json\n",
            "/content/all_alpha_json_data/3l1w_A_albe_PG.json\n",
            "/content/all_alpha_json_data/2a40_B_albe_PG.json\n",
            "/content/all_alpha_json_data/3mpr_B_albe_PG.json\n",
            "/content/all_alpha_json_data/3g6s_A_albe_PG.json\n",
            "/content/all_alpha_json_data/2f1n_A_albe_PG.json\n",
            "/content/all_alpha_json_data/1vyb_A_albe_PG.json\n",
            "/content/all_alpha_json_data/4gew_A_albe_PG.json\n",
            "/content/all_alpha_json_data/4a9c_A_albe_PG.json\n",
            "/content/all_alpha_json_data/2xsw_B_albe_PG.json\n",
            "/content/all_alpha_json_data/3ngq_A_albe_PG.json\n",
            "/content/all_alpha_json_data/1i9z_A_albe_PG.json\n",
            "/content/all_alpha_json_data/2ei9_A_albe_PG.json\n",
            "/content/all_alpha_json_data/1wdu_B_albe_PG.json\n",
            "/content/all_alpha_json_data/3teb_B_albe_PG.json\n",
            "/content/all_alpha_json_data/2j63_A_albe_PG.json\n",
            "/content/all_alpha_json_data/5xp6_A_albe_PG.json\n",
            "/content/all_alpha_json_data/5nai_A_albe_PG.json\n",
            "/content/all_alpha_json_data/3dha_A_albe_PG.json\n",
            "/content/all_alpha_json_data/5ew0_A_albe_PG.json\n",
            "/content/all_alpha_json_data/2gcu_B_albe_PG.json\n",
            "/content/all_alpha_json_data/5ve3_A_albe_PG.json\n",
            "/content/all_alpha_json_data/1zkp_C_albe_PG.json\n",
            "/content/all_alpha_json_data/3g1p_A_albe_PG.json\n",
            "/content/all_alpha_json_data/5wcm_A_albe_PG.json\n",
            "/content/all_alpha_json_data/5ngg_A_albe_PG.json\n",
            "/content/all_alpha_json_data/5v8s_A_albe_PG.json\n",
            "/content/all_alpha_json_data/5q22_A_albe_PG.json\n",
            "/content/all_alpha_json_data/5aho_A_albe_PG.json\n",
            "/content/all_alpha_json_data/2qed_A_albe_PG.json\n",
            "/content/all_alpha_json_data/3rpc_A_albe_PG.json\n",
            "/content/all_alpha_json_data/6auf_B_albe_PG.json\n",
            "/content/all_alpha_json_data/3md7_A_albe_PG.json\n",
            "/content/all_alpha_json_data/2p18_A_albe_PG.json\n",
            "/content/all_alpha_json_data/4v0h_D_albe_PG.json\n",
            "/content/all_alpha_json_data/6frn_A_albe_PG.json\n",
            "/content/all_alpha_json_data/4d02_A_albe_PG.json\n",
            "/content/all_alpha_json_data/4zo2_A_albe_PG.json\n",
            "/content/all_alpha_json_data/3adr_B_albe_PG.json\n",
            "/content/all_alpha_json_data/3x30_A_albe_PG.json\n",
            "/content/all_alpha_json_data/3zwf_A_albe_PG.json\n",
            "/content/all_alpha_json_data/2p97_A_albe_PG.json\n",
            "/content/all_alpha_json_data/3aj3_A_albe_PG.json\n",
            "/content/all_alpha_json_data/4fek_B_albe_PG.json\n",
            "/content/all_alpha_json_data/6n9i_A_albe_PG.json\n",
            "/content/all_alpha_json_data/3iek_A_albe_PG.json\n",
            "/content/all_alpha_json_data/4ysl_A_albe_PG.json\n",
            "/content/all_alpha_json_data/4le6_D_albe_PG.json\n",
            "/content/all_alpha_json_data/2zo4_A_albe_PG.json\n",
            "/content/all_alpha_json_data/3r2u_B_albe_PG.json\n",
            "/content/all_alpha_json_data/1ztc_A_albe_PG.json\n",
            "/content/all_alpha_json_data/2vw8_A_albe_PG.json\n",
            "/content/all_alpha_json_data/2e7y_B_albe_PG.json\n",
            "/content/all_alpha_json_data/3kl7_A_albe_PG.json\n",
            "/content/all_alpha_json_data/2zwr_B_albe_PG.json\n",
            "/content/all_alpha_json_data/2az4_A_albe_PG.json\n",
            "/content/all_alpha_json_data/1vjn_A_albe_PG.json\n",
            "/content/all_alpha_json_data/1y44_A_albe_PG.json\n",
            "/content/all_alpha_json_data/4z67_A_albe_PG.json\n",
            "/content/all_alpha_json_data/4xww_B_albe_PG.json\n",
            "/content/all_alpha_json_data/2p4z_A_albe_PG.json\n",
            "/content/all_alpha_json_data/3esh_A_albe_PG.json\n",
            "/content/all_alpha_json_data/4ad9_A_albe_PG.json\n",
            "/content/all_alpha_json_data/1wra_A_albe_PG.json\n",
            "/content/all_alpha_json_data/2bib_A_albe_PG.json\n",
            "/content/all_alpha_json_data/3h3e_A_albe_PG.json\n",
            "/content/all_alpha_json_data/2xr1_A_albe_PG.json\n",
            "/content/all_alpha_json_data/2i7x_A_albe_PG.json\n",
            "/content/all_alpha_json_data/2wyl_C_albe_PG.json\n",
            "/content/all_alpha_json_data/4nur_A_albe_PG.json\n",
            "/content/all_alpha_json_data/4zfl_D_albe_PG.json\n",
            "/content/all_alpha_json_data/2imh_A_albe_PG.json\n",
            "/content/all_alpha_json_data/5le5_A_albe_PG.json\n",
            "/content/all_alpha_json_data/6avo_b_albe_PG.json\n",
            "/content/all_alpha_json_data/4r67_k_albe_PG.json\n",
            "/content/all_alpha_json_data/5m32_H_albe_PG.json\n",
            "/content/all_alpha_json_data/3unb_i_albe_PG.json\n",
            "/content/all_alpha_json_data/6qm7_S_albe_PG.json\n",
            "/content/all_alpha_json_data/1ryp_2_albe_PG.json\n",
            "/content/all_alpha_json_data/1xff_A_albe_PG.json\n",
            "/content/all_alpha_json_data/4amv_A_albe_PG.json\n",
            "/content/all_alpha_json_data/4r17_F_albe_PG.json\n",
            "/content/all_alpha_json_data/3nzj_K_albe_PG.json\n",
            "/content/all_alpha_json_data/3mdn_D_albe_PG.json\n",
            "/content/all_alpha_json_data/3mi0_2_albe_PG.json\n",
            "/content/all_alpha_json_data/2jay_A_albe_PG.json\n",
            "/content/all_alpha_json_data/5trg_a_albe_PG.json\n",
            "/content/all_alpha_json_data/6bgl_b_albe_PG.json\n",
            "/content/all_alpha_json_data/3wxr_Y_albe_PG.json\n",
            "/content/all_alpha_json_data/1jgt_B_albe_PG.json\n",
            "/content/all_alpha_json_data/4wks_C_albe_PG.json\n",
            "/content/all_alpha_json_data/1or0_B_albe_PG.json\n",
            "/content/all_alpha_json_data/1te5_A_albe_PG.json\n",
            "/content/all_alpha_json_data/1gk9_B_albe_PG.json\n",
            "/content/all_alpha_json_data/1ct9_A_albe_PG.json\n",
            "/content/all_alpha_json_data/1q15_A_albe_PG.json\n",
            "/content/all_alpha_json_data/1g3k_A_albe_PG.json\n",
            "/content/all_alpha_json_data/4hst_B_albe_PG.json\n",
            "/content/all_alpha_json_data/6czf_A_albe_PG.json\n",
            "/content/all_alpha_json_data/4e57_A_albe_PG.json\n",
            "/content/all_alpha_json_data/5fmg_H_albe_PG.json\n",
            "/content/all_alpha_json_data/1ofd_A_albe_PG.json\n",
            "/content/all_alpha_json_data/2ntk_B_albe_PG.json\n",
            "/content/all_alpha_json_data/6nq6_B_albe_PG.json\n",
            "/content/all_alpha_json_data/4pv2_B_albe_PG.json\n",
            "/content/all_alpha_json_data/5xlu_B_albe_PG.json\n",
            "/content/all_alpha_json_data/3rl5_A_albe_PG.json\n",
            "/content/all_alpha_json_data/5uq6_A_albe_PG.json\n",
            "/content/all_alpha_json_data/5inb_A_albe_PG.json\n",
            "/content/all_alpha_json_data/5jpf_A_albe_PG.json\n",
            "/content/all_alpha_json_data/4i5l_C_albe_PG.json\n",
            "/content/all_alpha_json_data/2wdc_A_albe_PG.json\n",
            "/content/all_alpha_json_data/3h63_A_albe_PG.json\n",
            "/content/all_alpha_json_data/4ja7_A_albe_PG.json\n",
            "/content/all_alpha_json_data/3ib7_A_albe_PG.json\n",
            "/content/all_alpha_json_data/2hy1_A_albe_PG.json\n",
            "/content/all_alpha_json_data/2z72_A_albe_PG.json\n",
            "/content/all_alpha_json_data/4lty_A_albe_PG.json\n",
            "/content/all_alpha_json_data/3gve_A_albe_PG.json\n",
            "/content/all_alpha_json_data/4j6o_A_albe_PG.json\n",
            "/content/all_alpha_json_data/4b2o_A_albe_PG.json\n",
            "/content/all_alpha_json_data/2z06_A_albe_PG.json\n",
            "/content/all_alpha_json_data/2yvt_A_albe_PG.json\n",
            "/content/all_alpha_json_data/4h2g_A_albe_PG.json\n",
            "/content/all_alpha_json_data/3ive_A_albe_PG.json\n",
            "/content/all_alpha_json_data/2nxf_A_albe_PG.json\n",
            "/content/all_alpha_json_data/4nzv_A_albe_PG.json\n",
            "/content/all_alpha_json_data/3tho_B_albe_PG.json\n",
            "/content/all_alpha_json_data/3tgh_A_albe_PG.json\n",
            "/content/all_alpha_json_data/3ztv_A_albe_PG.json\n",
            "/content/all_alpha_json_data/3qfm_A_albe_PG.json\n",
            "/content/all_alpha_json_data/4q7f_A_albe_PG.json\n",
            "/content/all_alpha_json_data/2xmo_A_albe_PG.json\n",
            "/content/all_alpha_json_data/1nnw_B_albe_PG.json\n",
            "/content/all_alpha_json_data/4fbw_B_albe_PG.json\n",
            "/content/all_alpha_json_data/4fbk_B_albe_PG.json\n",
            "/content/all_alpha_json_data/4yke_A_albe_PG.json\n",
            "/content/all_alpha_json_data/6hwr_A_albe_PG.json\n",
            "/content/all_alpha_json_data/3c9f_A_albe_PG.json\n",
            "/content/all_alpha_json_data/3rqz_C_albe_PG.json\n",
            "/content/all_alpha_json_data/1ii7_A_albe_PG.json\n",
            "/content/all_alpha_json_data/5w8m_B_albe_PG.json\n",
            "/content/all_alpha_json_data/4f0z_A_albe_PG.json\n",
            "/content/all_alpha_json_data/1aui_A_albe_PG.json\n",
            "/content/all_alpha_json_data/4il1_A_albe_PG.json\n",
            "/content/all_alpha_json_data/2a22_B_albe_PG.json\n",
            "/content/all_alpha_json_data/2qjc_A_albe_PG.json\n",
            "/content/all_alpha_json_data/1uf3_A_albe_PG.json\n",
            "/content/all_alpha_json_data/1g5b_B_albe_PG.json\n",
            "/content/all_alpha_json_data/2dfj_A_albe_PG.json\n",
            "/content/all_alpha_json_data/1su1_A_albe_PG.json\n",
            "/content/all_alpha_json_data/3av0_A_albe_PG.json\n",
            "/content/all_alpha_json_data/3auz_A_albe_PG.json\n",
            "/content/all_alpha_json_data/1xm7_A_albe_PG.json\n",
            "/content/all_alpha_json_data/3ck2_A_albe_PG.json\n",
            "/content/all_alpha_json_data/1s3l_A_albe_PG.json\n",
            "/content/all_alpha_json_data/2ahd_A_albe_PG.json\n",
            "/content/all_alpha_json_data/2kkn_A_albe_PG.json\n",
            "/content/all_alpha_json_data/3d03_A_albe_PG.json\n",
            "/content/all_alpha_json_data/3e0j_C_albe_PG.json\n",
            "/content/all_alpha_json_data/3flo_A_albe_PG.json\n",
            "/content/all_alpha_json_data/2yeq_A_albe_PG.json\n",
            "/content/all_alpha_json_data/2jfr_A_albe_PG.json\n",
            "/content/all_alpha_json_data/4jnd_A_albe_PG.json\n",
            "/content/all_alpha_json_data/4yzg_A_albe_PG.json\n",
            "/content/all_alpha_json_data/4rag_A_albe_PG.json\n",
            "/content/all_alpha_json_data/3kdj_B_albe_PG.json\n",
            "/content/all_alpha_json_data/4oic_B_albe_PG.json\n",
            "/content/all_alpha_json_data/3w42_A_albe_PG.json\n",
            "/content/all_alpha_json_data/3pu9_A_albe_PG.json\n",
            "/content/all_alpha_json_data/2i44_B_albe_PG.json\n",
            "/content/all_alpha_json_data/2iq1_A_albe_PG.json\n",
            "/content/all_alpha_json_data/4da1_A_albe_PG.json\n",
            "/content/all_alpha_json_data/2isn_B_albe_PG.json\n",
            "/content/all_alpha_json_data/3zt9_A_albe_PG.json\n",
            "/content/all_alpha_json_data/3rnr_B_albe_PG.json\n",
            "/content/all_alpha_json_data/2pnq_A_albe_PG.json\n",
            "/content/all_alpha_json_data/3ke6_B_albe_PG.json\n",
            "/content/all_alpha_json_data/2j4o_A_albe_PG.json\n",
            "/content/all_alpha_json_data/3t91_B_albe_PG.json\n",
            "/content/all_alpha_json_data/3f79_E_albe_PG.json\n",
            "/content/all_alpha_json_data/3eq2_B_albe_PG.json\n",
            "/content/all_alpha_json_data/3d8k_D_albe_PG.json\n",
            "/content/all_alpha_json_data/4iik_A_albe_PG.json\n",
            "/content/all_alpha_json_data/5gs7_A_albe_PG.json\n",
            "/content/all_alpha_json_data/2bjf_A_albe_PG.json\n",
            "/content/all_alpha_json_data/2x1d_A_albe_PG.json\n",
            "/content/all_alpha_json_data/3hbc_A_albe_PG.json\n",
            "/content/all_alpha_json_data/3gvz_A_albe_PG.json\n",
            "/content/all_alpha_json_data/3fgr_B_albe_PG.json\n",
            "/content/all_alpha_json_data/4bwc_B_albe_PG.json\n",
            "/content/all_alpha_json_data/3fbx_A_albe_PG.json\n",
            "/content/all_alpha_json_data/5y0m_A_albe_PG.json\n",
            "/content/all_alpha_json_data/3n2w_D_albe_PG.json\n",
            "/content/all_alpha_json_data/4ihe_A_albe_PG.json\n",
            "/content/all_alpha_json_data/3it4_A_albe_PG.json\n",
            "/content/all_alpha_json_data/1vra_A_albe_PG.json\n",
            "/content/all_alpha_json_data/1vz6_A_albe_PG.json\n",
            "/content/all_alpha_json_data/2v4i_A_albe_PG.json\n",
            "/content/all_alpha_json_data/5tvo_A_albe_PG.json\n",
            "/content/all_alpha_json_data/3ep6_A_albe_PG.json\n",
            "/content/all_alpha_json_data/1jl0_A_albe_PG.json\n",
            "/content/all_alpha_json_data/1vr7_A_albe_PG.json\n",
            "/content/all_alpha_json_data/2iii_A_albe_PG.json\n",
            "/content/all_alpha_json_data/1hq0_A_albe_PG.json\n",
            "/content/all_alpha_json_data/4lf0_A_albe_PG.json\n",
            "/content/all_alpha_json_data/1uf5_A_albe_PG.json\n",
            "/content/all_alpha_json_data/5jqn_A_albe_PG.json\n",
            "/content/all_alpha_json_data/2w1v_A_albe_PG.json\n",
            "/content/all_alpha_json_data/2dyu_A_albe_PG.json\n",
            "/content/all_alpha_json_data/4hg5_C_albe_PG.json\n",
            "/content/all_alpha_json_data/1ems_A_albe_PG.json\n",
            "/content/all_alpha_json_data/5h8i_B_albe_PG.json\n",
            "/content/all_alpha_json_data/4f4h_B_albe_PG.json\n",
            "/content/all_alpha_json_data/2e11_A_albe_PG.json\n",
            "/content/all_alpha_json_data/3p8k_A_albe_PG.json\n",
            "/content/all_alpha_json_data/3sdb_A_albe_PG.json\n",
            "/content/all_alpha_json_data/3ilv_A_albe_PG.json\n",
            "/content/all_alpha_json_data/4cyf_A_albe_PG.json\n",
            "/content/all_alpha_json_data/3wuy_A_albe_PG.json\n",
            "/content/all_alpha_json_data/2vhh_A_albe_PG.json\n",
            "/content/all_alpha_json_data/3st6_C_albe_PG.json\n",
            "/content/all_alpha_json_data/2fn0_B_albe_PG.json\n",
            "/content/all_alpha_json_data/3h9m_A_albe_PG.json\n",
            "/content/all_alpha_json_data/3bzm_A_albe_PG.json\n",
            "/content/all_alpha_json_data/1k0e_B_albe_PG.json\n",
            "/content/all_alpha_json_data/5cwa_A_albe_PG.json\n",
            "/content/all_alpha_json_data/5jxz_A_albe_PG.json\n",
            "/content/all_alpha_json_data/3r75_B_albe_PG.json\n",
            "/content/all_alpha_json_data/4grh_A_albe_PG.json\n",
            "/content/all_alpha_json_data/1ds1_A_albe_PG.json\n",
            "/content/all_alpha_json_data/4c5w_A_albe_PG.json\n",
            "/content/all_alpha_json_data/5hsx_B_albe_PG.json\n",
            "/content/all_alpha_json_data/1oih_B_albe_PG.json\n",
            "/content/all_alpha_json_data/1jr7_A_albe_PG.json\n",
            "/content/all_alpha_json_data/6gpn_A_albe_PG.json\n",
            "/content/all_alpha_json_data/4ylm_X_albe_PG.json\n",
            "/content/all_alpha_json_data/4oj8_B_albe_PG.json\n",
            "/content/all_alpha_json_data/2q4a_A_albe_PG.json\n",
            "/content/all_alpha_json_data/3kt7_A_albe_PG.json\n",
            "/content/all_alpha_json_data/5cg8_A_albe_PG.json\n",
            "/content/all_alpha_json_data/4lt5_A_albe_PG.json\n",
            "/content/all_alpha_json_data/1rv9_A_albe_PG.json\n",
            "/content/all_alpha_json_data/1xfj_A_albe_PG.json\n",
            "/content/all_alpha_json_data/1q1l_A_albe_PG.json\n",
            "/content/all_alpha_json_data/1pg6_A_albe_PG.json\n",
            "253\n"
          ]
        }
      ],
      "source": [
        "import os\n",
        "lisos=os.listdir('/content/albe_GML/') \n",
        "liso=os.listdir('/content/all_alpha_json_data/') \n",
        "Dataset=[]\n",
        "chainlist=[] \n",
        "finalchainlist=[]\n",
        "print(l1)\n",
        "for i in range(len(l1)):\n",
        "    strw=l1[i][:4]+'_'+l1[i][4]+'_albe_PG.json'\n",
        "    strx=l1[i][:4]+'_'+l1[i][4]+'_albe_PG.gml'\n",
        "    strq=l1[i][:4]+l1[i][4]\n",
        "    strc='/content/albe_GML/'+strx\n",
        "    strd='/content/all_alpha_json_data/'+strw\n",
        "    \n",
        "    if((strx in lisos )and (strw in liso)):\n",
        "      if((l1[i][:4] not in chainlist)):\n",
        "        chainlist.append(l1[i][:4])\n",
        "        #print(strc)\n",
        "        #print(strd)\n",
        "        for k in range(len(l3)):\n",
        "          #print(l3[k])\n",
        "          if(l2[i]==l3[k]):\n",
        "            \n",
        "            data=json_toData_(k,strd,strc)\n",
        "            \n",
        "            Dataset.append(data)\n",
        "            finalchainlist.append(l1[i][:4]+'_'+l1[i][4])\n",
        "print(len(Dataset))"
      ]
    },
    {
      "cell_type": "code",
      "execution_count": null,
      "metadata": {
        "colab": {
          "base_uri": "https://localhost:8080/"
        },
        "id": "pRSuGKDKQefQ",
        "outputId": "482528af-bbcc-4670-8354-63edd70d10d1"
      },
      "outputs": [
        {
          "output_type": "stream",
          "name": "stdout",
          "text": [
            "253\n",
            "16\n",
            "253\n"
          ]
        }
      ],
      "source": [
        "print(len(Dataset))\n",
        "print(len(l3))\n",
        "print(len(finalchainlist))"
      ]
    },
    {
      "cell_type": "code",
      "execution_count": null,
      "metadata": {
        "id": "OtROqmqWxvPn"
      },
      "outputs": [],
      "source": [
        "finalchainlist2=[]\n",
        "#print((chainlist))\n",
        "print(len(Dataset))\n",
        "Dataset=list(filter(None, Dataset))\n",
        "Dataset2=[]\n",
        "#print(Dataset[10])\n",
        "for i in range(len(Dataset)):\n",
        "  y=Dataset[i]\n",
        "  print(Dataset[i])\n",
        "  try:\n",
        "    if(y.edge_attr!=None):\n",
        "      print(i)\n",
        "      print(Dataset[i])\n",
        "      Dataset2.append(Dataset[i])\n",
        "      #finalchainlist2.append(finalchainlist[i])\n",
        "  except AttributeError:\n",
        "          print(\"not found\")"
      ]
    },
    {
      "cell_type": "code",
      "execution_count": null,
      "metadata": {
        "colab": {
          "base_uri": "https://localhost:8080/"
        },
        "id": "8ui_DxseytzP",
        "outputId": "16a083f5-61a4-40c7-8dcf-2618893f6eda"
      },
      "outputs": [
        {
          "output_type": "stream",
          "name": "stdout",
          "text": [
            "253\n"
          ]
        }
      ],
      "source": [
        "print(len(Dataset2))\n",
        "#Dataset2=Dataset2[:120]\n",
        "import pickle\n",
        "with open(\"/content/CATH_alphabeta_4lrsandwich_16_30.txt\",\"wb\") as f:\n",
        "  f.write(pickle.dumps(Dataset2)) "
      ]
    },
    {
      "cell_type": "code",
      "execution_count": null,
      "metadata": {
        "colab": {
          "base_uri": "https://localhost:8080/"
        },
        "id": "Mzz-ICFyNyHR",
        "outputId": "175c40fb-2043-46f8-8888-29352843024d"
      },
      "outputs": [
        {
          "name": "stdout",
          "output_type": "stream",
          "text": [
            "['1n7v', '3c7x', '2mqs', '6clz', '6cm1', '1gen', '1rtg', '1ck7', '1gxd', '1hxn', '1qhu', '1qjs']\n"
          ]
        }
      ],
      "source": [
        "print((chainlist))"
      ]
    },
    {
      "cell_type": "code",
      "execution_count": null,
      "metadata": {
        "colab": {
          "base_uri": "https://localhost:8080/"
        },
        "id": "wpcCo__2rYso",
        "outputId": "751ed217-6c16-454b-e553-ee290425f17c"
      },
      "outputs": [
        {
          "name": "stdout",
          "output_type": "stream",
          "text": [
            "11761\n"
          ]
        }
      ],
      "source": [
        "import pickle\n",
        "with open(\"/content/SCOP_allalpha_sim30_236.txt\",\"rb\") as f:\n",
        "    testdataset = pickle.load(f,encoding=\"latin1\")\n",
        "    testdataset=list(filter(None, testdataset))\n",
        "print(len(testdataset))\n"
      ]
    },
    {
      "cell_type": "code",
      "execution_count": null,
      "metadata": {
        "id": "x5HsvweAmidD"
      },
      "outputs": [],
      "source": [
        "import torch\n",
        "\n",
        "def format_pytorch_version(version):\n",
        "  return version.split('+')[0]\n",
        "\n",
        "TORCH_version = torch.__version__\n",
        "TORCH = format_pytorch_version(TORCH_version)\n",
        "\n",
        "def format_cuda_version(version):\n",
        "  return 'cu' + version.replace('.', '')\n",
        "\n",
        "CUDA_version = torch.version.cuda\n",
        "CUDA = format_cuda_version(CUDA_version)\n",
        "\n",
        "!pip install torch-scatter     -f https://pytorch-geometric.com/whl/torch-{TORCH}+{CUDA}.html\n",
        "!pip install torch-sparse      -f https://pytorch-geometric.com/whl/torch-{TORCH}+{CUDA}.html\n",
        "!pip install torch-cluster     -f https://pytorch-geometric.com/whl/torch-{TORCH}+{CUDA}.html\n",
        "!pip install torch-spline-conv -f https://pytorch-geometric.com/whl/torch-{TORCH}+{CUDA}.html\n",
        "!pip install torch-geometric "
      ]
    },
    {
      "cell_type": "code",
      "execution_count": null,
      "metadata": {
        "id": "wXeb-Jh2SGKx"
      },
      "outputs": [],
      "source": [
        "#Alpha Graph\n",
        "import json\n",
        "import torch\n",
        "import torch\n",
        "from torch_geometric.utils import erdos_renyi_graph, to_networkx, from_networkx\n",
        "from torch_geometric.data import Data\n",
        "from torch_sparse import spspmm, coalesce\n",
        "import networkx as nx\n",
        "from pathlib import Path\n",
        "def json_toData_alpha(attr_y,filename1,filename2):\n",
        "  Dataset=[]\n",
        "  my_file = Path(filename1)\n",
        "  if my_file.is_file():\n",
        "    with open(filename1) as f:\n",
        "      data = json.load(f)\n",
        "      my_file2 = Path(filename2)\n",
        "      if my_file2.is_file():\n",
        "        try:\n",
        "          G=nx.read_gml(filename2)\n",
        "          G.nodes(data=\"num_residues\")\n",
        "          l=list(G.nodes())\n",
        "          print(l)\n",
        "          vertices=data['vertices']\n",
        "          edges=data['edges']\n",
        "          edge_labels=data['edgeLabels']\n",
        "          print(vertices)\n",
        "          edges_keys=list(edges.keys())\n",
        "          edges_values=list(edges.values())\n",
        "          ek=list(edge_labels.keys())\n",
        "          ev=list(edge_labels.values())\n",
        "          print(edges_keys)\n",
        "          print(edges_values)\n",
        "          keys=[]\n",
        "          values=[]\n",
        "          value=[]\n",
        "          degrees=[]\n",
        "          vertex_labels=[]\n",
        "          num_residues=[]\n",
        "          edge_atr=[]\n",
        "          edge_tuple=[]\n",
        "\n",
        "          for j in range(len(edges_keys)):\n",
        "              print(edges_keys[j][1:])\n",
        "              if(edges_keys[j][0]=='h'):\n",
        "                \n",
        "                keys.append(int(edges_keys[j][1:]))\n",
        "                for i in range(len(edges_values[j])):\n",
        "                  if(edges_values[j][i][0]=='h'):\n",
        "                    value.append(int(edges_values[j][i][1:]))\n",
        "                # if(len(value)>0):\n",
        "                #   if(ev[j]=='m'):\n",
        "                #     edge_atr.append(1)\n",
        "                #   if(ev[j]=='a'):\n",
        "                #     edge_atr.append(2)\n",
        "                #   if(ev[j]=='p'):\n",
        "                #     edge_atr.append(3)\n",
        "                values.append(value)\n",
        "                value=[]\n",
        "          print(keys)\n",
        "          print(values)\n",
        "          for i in range(len(values)):\n",
        "            if(len(values)>0):\n",
        "              for j in range(len(values[i])):\n",
        "                if(keys[i]!=values[i][j]):\n",
        "                  \n",
        "                  a1=(keys[i],values[i][j])\n",
        "                  edge_tuple.append(a1)\n",
        "          #print(edge_tuple)\n",
        "          edgetuple=set(edge_tuple)\n",
        "          print(edgetuple)\n",
        "          edgetuple=sorted(list(edgetuple))\n",
        "          #print(edgetuple)\n",
        "          keys=[]\n",
        "          values=[]\n",
        "          for i in range(len(edgetuple)):\n",
        "            keys.append(edgetuple[i][0])\n",
        "            values.append(edgetuple[i][1])\n",
        "          for i in range(len(vertices)):\n",
        "            if((vertices[i][0])=='h'):\n",
        "              num_residues.append(int(G.nodes[l[i]]['num_residues']))\n",
        "          for i in range(len(edges_values)):\n",
        "            \n",
        "            if(((vertices[i][0])=='h')):\n",
        "              vertex_labels.append(1)\n",
        "              degrees.append(len(edges_values[i]))\n",
        "\n",
        "          print(keys)\n",
        "          print(values)\n",
        "          edge_index = torch.tensor([(keys),(values)], dtype=torch.long)\n",
        "          edge_attr = torch.tensor([edge_atr]).view(-1, 1).long()\n",
        "          \n",
        "          y=torch.tensor([attr_y], dtype=torch.long)\n",
        "            #print(degrees) \n",
        "            #print(vertex_labels) \n",
        "          x=torch.cat([torch.tensor(degrees).view(-1, 1).float(),torch.tensor(vertex_labels).view(-1, 1).float(),torch.tensor(num_residues).view(-1, 1).float()],-1)\n",
        "\n",
        "\n",
        "          data = Data(x=x, edge_index=edge_index,edge_attr=edge_attr,y=y) \n",
        "        except nx.NetworkXError:\n",
        "            print(\"not found\")\n",
        "\n",
        "    return data"
      ]
    },
    {
      "cell_type": "code",
      "execution_count": null,
      "metadata": {
        "id": "i4mdInL3mjGV"
      },
      "outputs": [],
      "source": [
        "import json\n",
        "import torch\n",
        "import torch\n",
        "from torch_geometric.utils import erdos_renyi_graph, to_networkx, from_networkx\n",
        "from torch_geometric.data import Data\n",
        "from torch_sparse import spspmm, coalesce\n",
        "import networkx as nx\n",
        "from pathlib import Path\n",
        "def json_toData_(attr_y,filename1,filename2):\n",
        "  Dataset=[]\n",
        "  my_file = Path(filename1)\n",
        "  print(filename1)\n",
        "  if my_file.is_file():\n",
        "    with open(filename1) as f:\n",
        "      data = json.load(f)\n",
        "      \n",
        "      my_file2 = Path(filename2)\n",
        "      if my_file2.is_file():\n",
        "        try:\n",
        "          G=nx.read_gml(filename2)\n",
        "          G.nodes(data=\"num_residues\")\n",
        "          l=list(G.nodes())\n",
        "          vertices=data['vertices']\n",
        "          edges=data['edges']\n",
        "          edge_labels=data['edgeLabels']\n",
        "          #print(vertices)\n",
        "          edges_keys=list(edges.keys())\n",
        "          edges_values=list(edges.values())\n",
        "          ek=list(edge_labels.keys())\n",
        "          ev=list(edge_labels.values())\n",
        "          keys=[]\n",
        "          values=[]\n",
        "          value=[]\n",
        "          degrees=[]\n",
        "          vertex_labels=[]\n",
        "          num_residues=[]\n",
        "          edge_atr=[]\n",
        "          edge_tuple=[]\n",
        "          #print((edges_values))\n",
        "          #print((edges_keys))\n",
        "          #print(len(ev))\n",
        "        \n",
        "        \n",
        "          #print(len(l))\n",
        "          #print(G.nodes[l[0]]['num_residues'])\n",
        "          for j in range(len(edges_keys)):\n",
        "              #for k in range(len(edges_values[j])):\n",
        "              keys.append(int(edges_keys[j][1:]))\n",
        "          for i in range(len(edges_values)):\n",
        "            degrees.append(len(edges_values[i]))\n",
        "            if((vertices[i][0])=='h'):\n",
        "              vertex_labels.append(1)\n",
        "            if((vertices[i][0])=='e'):\n",
        "              vertex_labels.append(2)\n",
        "            num_residues.append(G.nodes[l[i]]['num_residues'])\n",
        "            \n",
        "            for j in range(len(edges_values[i])):\n",
        "              #keys.append(int(edges_keys[i][1]))\n",
        "              a=((edges_keys[i][1:]))\n",
        "              #print(a)\n",
        "              #a1=(int(edges_keys[i][1]),int(edges_values[i][j][1]))\n",
        "              #edge_tuple.append(a1)\n",
        "              value.append(int(edges_values[i][j][1:]))\n",
        "              b=(edges_values[i][j][1:])\n",
        "            \n",
        "          \n",
        "            values.append(value)\n",
        "            value=[]\n",
        "          #print(edge_atr) \n",
        "          #print((keys))\n",
        "          #print((values))\n",
        "          #print(edgetuple)\n",
        "          for l in range(len(ek)):\n",
        "                #if(((ek[l][1]==a)and(ek[l][4]==b))or((ek[l][1]==b)and(ek[l][4]==a))):\n",
        "                  if(ev[l]=='m'):\n",
        "                    edge_atr.append(1)\n",
        "                  if(ev[l]=='a'):\n",
        "                    edge_atr.append(2)\n",
        "                  if(ev[l]=='p'):\n",
        "                    edge_atr.append(3)\n",
        "          for i in range(len(values)):\n",
        "            for j in range(len(values[i])):\n",
        "              if(keys[i]!=values[i][j]):\n",
        "                a1=(keys[i],values[i][j])\n",
        "                edge_tuple.append(a1)\n",
        "          #print(edge_tuple)\n",
        "          edgetuple=set(edge_tuple)\n",
        "          #print(edgetuple)\n",
        "          edgetuple=sorted(list(edgetuple))\n",
        "          #print(edgetuple)\n",
        "          keys=[]\n",
        "          values=[]\n",
        "          for i in range(len(edgetuple)):\n",
        "            keys.append(edgetuple[i][0])\n",
        "            values.append(edgetuple[i][1])\n",
        "\n",
        "          edge_index = torch.tensor([(keys),(values)], dtype=torch.long)\n",
        "          edge_attr = torch.tensor([edge_atr]).view(-1, 1).long()\n",
        "        \n",
        "          y=torch.tensor([attr_y], dtype=torch.long)\n",
        "          #print(degrees) \n",
        "          #print(vertex_labels) \n",
        "          x=torch.cat([torch.tensor(degrees).view(-1, 1).float(),torch.tensor(vertex_labels).view(-1, 1).float(),torch.tensor(num_residues).view(-1, 1).float()],-1)\n",
        "          #print(ek[0][4])\n",
        "          #print(ev)\n",
        "          #print(edge_labels.keys()) \n",
        "          #print(len(ek)) \n",
        "          #print(edge_labels)\n",
        "          #print(edge_attr)\n",
        "\n",
        "          data = Data(x=x, edge_index=edge_index,edge_attr=edge_attr,y=y)\n",
        "        except nx.NetworkXError:\n",
        "          print(\"not found\")\n",
        "        \n",
        "      #print(filename2)\n",
        "         \n",
        "        #print(list(data.keys()))\n",
        "        \n",
        "  #print(data)\n",
        "  #G = to_networkx(data, node_attrs=['x'])\n",
        "  #G=G.to_undirected()\n",
        "  #g = dgl.from_networkx(G, node_attrs=['x'])\n",
        "  \n",
        "  #data=data.coalesce()\n",
        "  \n",
        "  #print(data)\n",
        "  \n",
        "  #print(data)\n",
        "    return data"
      ]
    },
    {
      "cell_type": "code",
      "execution_count": null,
      "metadata": {
        "colab": {
          "base_uri": "https://localhost:8080/"
        },
        "id": "-A_rAJVXpBem",
        "outputId": "2d905c9a-5cff-4ba5-ea9b-17595035d3ba"
      },
      "outputs": [
        {
          "name": "stdout",
          "output_type": "stream",
          "text": [
            "tensor([[0, 0, 0, 0, 0, 0, 1, 2, 3, 4, 5, 5, 5, 6, 6, 7, 7, 7],\n",
            "        [1, 2, 3, 5, 6, 7, 0, 0, 0, 7, 0, 6, 7, 0, 5, 0, 4, 5]])\n",
            "Data(x=[8, 3], edge_index=[2, 18], edge_attr=[9, 1], y=[1])\n"
          ]
        }
      ],
      "source": [
        "# pass the y or label of the graph and filename as parameters.\n",
        "d=json_toData_(123,'/content/101m_A_albe_PG.json','/content/101m_A_albe_PG.gml')\n",
        "print(d.edge_index)\n",
        "print(d)"
      ]
    }
  ],
  "metadata": {
    "colab": {
      "collapsed_sections": [],
      "name": "CATH_and_SCOP_DATA_Processing.ipynb",
      "provenance": []
    },
    "kernelspec": {
      "display_name": "Python 3",
      "name": "python3"
    },
    "language_info": {
      "name": "python"
    }
  },
  "nbformat": 4,
  "nbformat_minor": 0
}