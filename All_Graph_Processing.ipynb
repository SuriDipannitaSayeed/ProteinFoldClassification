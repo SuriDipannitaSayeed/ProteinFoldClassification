{
  "nbformat": 4,
  "nbformat_minor": 0,
  "metadata": {
    "colab": {
      "name": "All_Graph_Processing.ipynb",
      "provenance": [],
      "collapsed_sections": []
    },
    "kernelspec": {
      "name": "python3",
      "display_name": "Python 3"
    },
    "language_info": {
      "name": "python"
    },
    "accelerator": "GPU"
  },
  "cells": [
    {
      "cell_type": "code",
      "metadata": {
        "colab": {
          "base_uri": "https://localhost:8080/"
        },
        "id": "optvBK_Y6Cjh",
        "outputId": "8c50698f-8935-4ff2-c5ac-daeff9e2f955"
      },
      "source": [
        "#DD Train Dataset\n",
        "\n",
        "file = open(\"/content/TG.txt\", \"rb\")\n",
        "delnode = file.readlines()\n",
        "list_all_train=[]\n",
        "i=0\n",
        "k=0\n",
        "fold_id=[]\n",
        "l=[\"1\",\"2\",\"3\",\"4\",\"5\",\"6\",\"7\",\"8\",\"9\",\"10\",\"11\",\"12\",\"13\",\"14\",\"15\",\"16\",\"17\",\"18\",\"19\",\"20\",\"21\",\"22\",\"23\",\"24\",\"25\",\"26\",\"27\"]\n",
        "#print(l)\n",
        "while (i<len(delnode)):\n",
        "  str1=str(delnode[i])\n",
        "  if((str1[2:6])==\"FOLD\"):\n",
        "    index_st = str1.find('(')\n",
        "    index_ed = str1.find(')')\n",
        "    k=int(str1[(index_st+1):(index_ed)])\n",
        "    #print(str1[2:6])\n",
        "  \n",
        "  index_st = str1.find('>')\n",
        "  index_ed = str1.find('')\n",
        "  if(index_st>0):\n",
        "    str1=str1[(index_st+3):(index_st+8)]\n",
        "    #print(str1)\n",
        "    #if((len(str1)<=6)and(len(str1)>4)):\n",
        "    list_all_train.append(str1)\n",
        "    fold_id.append(k)\n",
        "  i=i+1\n",
        "print((fold_id))\n",
        "print(len(list_all_train))"
      ],
      "execution_count": null,
      "outputs": [
        {
          "output_type": "stream",
          "text": [
            "[0, 0, 0, 0, 0, 0, 0, 0, 0, 0, 0, 0, 0, 0, 0, 0, 0, 0, 0, 0, 0, 0, 0, 0, 0, 0, 0, 0, 0, 0, 0, 0, 0, 0, 0, 0, 0, 0, 0, 0, 0, 0, 0, 0, 0, 0, 0, 0, 0, 0, 0, 0, 0, 0, 0, 0, 0, 0, 0, 0, 0, 0, 0, 0, 0, 0, 0, 0, 0, 0, 0, 0, 0, 0, 0, 0, 0, 0, 0, 0, 0, 0, 0, 0, 0, 0, 0, 0, 0, 0, 0, 0, 0, 0, 0, 0, 0, 0, 0, 0, 0, 0, 0, 0, 0, 0, 0, 0, 0, 0, 0, 0, 0, 0, 0, 0, 0, 0, 0, 0, 0, 0, 0, 0, 0, 0, 0, 0, 0, 0, 0, 0, 0, 0, 0, 0, 0, 0, 0, 0, 0, 0, 0, 0, 0, 0, 0, 0, 0, 0, 0, 0, 0, 0, 0, 0, 0, 0, 0, 0, 0, 0, 0, 0, 0, 0, 0, 0, 0, 0, 0, 0, 0, 0, 0, 0, 0, 0, 0, 0, 0, 0, 0, 0, 0, 0, 0, 0, 0, 0, 0, 0, 0, 0, 0, 0, 0, 0, 0, 0, 0, 0, 0, 0, 0, 0, 0, 0, 0, 0, 0, 0, 0, 0, 0, 0, 0, 0, 0, 0, 0, 0, 0, 0, 0, 0, 0, 0, 0, 0, 0, 0, 0, 0, 0, 0, 0, 0, 0, 0, 0, 0, 0, 0, 0, 0, 0, 0, 0, 0, 0, 0, 0, 0, 0, 0, 0, 0, 0, 0, 0, 0, 0, 0, 0, 0, 0, 0, 0, 0, 0, 0, 0, 0, 0, 0, 0, 0, 0, 0, 0, 0, 0, 0, 0, 0, 0, 0, 0, 0, 0, 0, 0, 0, 0, 0, 0, 0, 0, 0, 0, 0, 0, 0, 0, 0, 0, 0, 0, 0, 0, 0, 0, 0, 0, 0, 0, 0, 0, 0, 0, 0, 0, 0, 0, 0, 0, 0, 0, 0, 0, 0, 0, 0, 0, 0, 0, 0, 0, 0, 0, 0, 0, 0, 0, 0, 0, 0, 0, 0, 0, 0, 0, 0, 0, 0, 0, 0, 0, 0, 0, 0, 0, 0, 0, 0, 0, 0, 0, 0, 0, 0, 0, 0, 0, 0, 0, 0, 0, 0, 0, 0, 0, 0, 0, 0, 0, 0, 0, 0, 0, 0, 0, 0, 0, 0, 0, 0, 0, 0, 0, 0, 0, 0, 0, 0, 0, 0, 0, 0, 0, 0, 0, 0, 0, 0, 0, 0, 0, 0, 0, 0, 0, 0, 0, 0, 0, 0, 0, 0, 0, 0, 0, 0, 0, 0, 0, 0, 0, 0, 0, 0, 0, 0, 0, 0, 0, 0, 0, 0, 0, 0, 0, 0, 0, 0, 0, 0, 0, 0, 0, 0, 0, 0, 0, 0, 0, 0, 0, 0, 0, 0, 0, 0, 0, 0, 0, 0, 0, 0, 0, 0, 0, 0, 0, 0, 0, 0, 0, 0, 0, 0, 0, 0, 0, 0, 0, 0, 0, 0, 0, 0, 0, 0, 0, 0, 0, 0, 0, 0, 0, 0, 0, 0, 0, 0, 0, 0, 0, 0, 0, 0, 0, 0, 0, 0, 0, 0, 0, 0, 0, 0, 0, 0, 0, 0, 0, 0, 0, 0, 0, 0, 0, 0, 0, 0, 0, 0, 0, 0, 0, 0, 0, 0, 0, 0, 0, 0, 0, 0, 0, 0, 0, 0, 0, 0, 0, 0, 0, 0, 0, 0, 0, 0, 0, 0, 0, 0, 0, 0, 0, 0, 0, 0, 0, 0, 0, 0, 0, 0, 0, 0, 0, 0, 0, 0, 0, 0, 0, 0, 0, 0, 0, 0, 0, 0, 0, 0, 0, 0, 0, 0, 0, 0, 0, 0, 0, 0, 0, 0, 0, 0, 0, 0, 0, 0, 0, 0, 0, 0, 0, 0, 0, 0, 0, 0, 0, 0, 0, 0, 0, 0, 0, 0, 0, 0, 0, 0, 0, 0, 0, 0, 0, 0, 0, 0, 0, 0, 0, 0, 0, 0, 0, 0, 0, 0, 0, 0, 0, 0, 0, 0, 0, 0, 0, 0, 0, 0, 0, 0, 0, 0, 0, 0, 0, 0, 0, 0, 0, 0, 0, 0, 0, 0, 0, 0, 0, 0, 0, 0, 0, 0, 0, 0, 0, 0, 0, 0, 0, 0, 0, 0, 0, 0, 0, 0, 0, 0, 0, 0, 0, 0, 0, 0, 0, 0, 0, 0, 0, 0, 0, 0, 0, 0, 0, 0, 0, 0, 0, 0, 0, 0, 0, 0, 0, 0, 0, 0, 0, 0, 0, 0, 0, 0, 0, 0, 0, 0, 0, 0, 0, 0, 0, 0, 0, 0, 0, 0, 0, 0, 0, 0, 0, 0, 0, 0, 0, 0, 0, 0, 0, 0, 0, 0, 0, 0, 0, 0, 0, 0, 0, 0, 0, 0, 0, 0, 0, 0, 0, 0, 0, 0, 0, 0, 0, 0, 0, 0, 0, 0, 0, 0, 0, 0, 0, 0, 0, 0, 0, 0, 0, 0, 0, 0, 0, 0, 0, 0, 0, 0, 0, 0, 0, 0, 0, 0, 0, 0, 0, 0, 0, 0, 0, 0, 0, 0, 0, 0, 0, 0, 0, 0, 0, 0, 0, 0, 0, 0, 0, 0, 0, 0, 0, 0, 0, 0, 0, 0, 0, 0, 0, 0, 0, 0, 0, 0, 0, 0, 0, 0, 0, 0, 0, 0, 0, 0, 0, 0, 0, 0, 0, 0, 0, 0, 0, 0, 0, 0, 0, 0, 0, 0, 0, 0, 0, 0, 0, 0, 0, 0, 0, 0, 0, 0, 0, 0, 0, 0, 0, 0, 0, 0, 0, 0, 0, 0, 0, 0, 0, 0, 0, 0, 0, 0, 0, 0, 0, 0, 0, 0, 0, 0, 0, 0, 0, 0, 0, 0, 0, 0, 0, 0, 0, 0, 0, 0, 0, 0, 0, 0, 0, 0, 0, 0, 0, 0, 0, 0, 0, 0, 0, 0, 0, 0, 0, 0, 0, 0, 0, 0, 0, 0, 0, 0, 0, 0, 0, 0, 0, 0, 0, 0, 0, 0, 0, 0, 0, 0, 0, 0, 0, 0, 0, 0, 0, 0, 0, 0, 0, 0, 0, 0, 0, 0, 0, 0, 0, 0, 0, 0, 0, 0, 0, 0, 0, 0, 0, 0, 0, 0, 0, 0, 0, 0, 0, 0, 0, 0, 0, 0, 0, 0, 0, 0, 0, 0, 0, 0, 0, 0, 0, 0, 0, 0, 0, 0, 0, 0, 0, 0, 0, 0, 0, 0, 0, 0, 0, 0, 0, 0, 0, 0, 0, 0, 0, 0, 0, 0, 0, 0, 0, 0, 0, 0, 0, 0, 0, 0, 0, 0, 0, 0, 0, 0, 0, 0, 0, 0, 0, 0, 0, 0, 0, 0, 0, 0, 0, 0, 0, 0, 0, 0, 0, 0, 0, 0, 0, 0, 0, 0, 0, 0, 0, 0, 0, 0, 0, 0, 0, 0, 0, 0, 0, 0, 0, 0, 0, 0, 0, 0, 0, 0, 0, 0, 0, 0, 0, 0, 0, 0, 0, 0, 0, 0, 0, 0, 0, 0, 0, 0, 0, 0, 0, 0, 0, 0, 0, 0, 0, 0, 0, 0, 0, 0, 0, 0, 0, 0, 0, 0, 0, 0, 0, 0, 0, 0, 0, 0, 0, 0, 0, 0, 0, 0, 0, 0, 0, 0, 0, 0, 0, 0, 0, 0, 0, 0, 0, 0, 0, 0, 0, 0, 0, 0, 0, 0, 0, 0, 0, 0, 0, 0, 0, 0, 0, 0, 0, 0, 0, 0, 0, 0, 0, 0, 0, 0, 0, 0, 0, 0, 0, 0, 0, 0, 0, 0, 0, 0, 0, 0, 0, 0, 0, 0, 0, 0, 0, 0, 0, 0, 0, 0, 0, 0, 0, 0, 0, 0, 0, 0, 0, 0, 0, 0, 0, 0, 0, 0, 0, 0, 0, 0, 0, 0, 0, 0, 0, 0, 0, 0, 0, 0, 0, 0, 0, 0, 0, 0, 0, 0, 0, 0, 0, 0, 0, 0, 0, 0, 0, 0, 0, 0, 0, 0, 0, 0, 0, 0, 0, 0, 0, 0, 0, 0, 0, 0, 0, 0, 0, 0, 0, 0, 0, 0, 0, 0, 0, 0, 0, 0, 0, 0, 0, 0, 0, 0, 0, 0, 0, 0, 0, 0, 0, 0, 0, 0, 0, 0, 0, 0, 0, 0, 0, 0, 0, 0, 0, 0, 0, 0, 0, 0, 0, 0, 0, 0, 0, 0, 0, 0, 0, 0, 0, 0, 0, 0, 0, 0, 0, 0, 0, 0, 0, 0, 0, 0, 0, 0, 0, 0, 0, 0, 0, 0, 0, 0, 0, 0, 0, 0, 0, 0, 0, 0, 0, 0, 0, 0, 0, 0, 0, 0, 0, 0, 0, 0, 0, 0, 0, 0, 0, 0, 0, 0, 0, 0, 0, 0, 0, 0, 0, 0, 0, 0, 0, 0, 0, 0, 0, 0, 0, 0, 0, 0, 0, 0, 0, 0, 0, 0, 0, 0, 0, 0, 0, 0, 0, 0, 0, 0, 0, 0, 0, 0, 0, 0, 0, 0, 0, 0, 0, 0, 0, 0, 0, 0, 0, 0, 0, 0, 0, 0, 0, 0, 0, 0, 0, 0, 0, 0, 0, 0, 0, 0, 0, 0, 0, 0, 0, 0, 0, 0, 0, 0, 0, 0, 0, 0, 0, 0, 0, 0, 0, 0, 0, 0, 0, 0, 0, 0, 0, 0, 0, 0, 0, 0, 0, 0, 0, 0, 0, 0, 0, 0, 0, 0, 0, 0, 0, 0, 0, 0, 0, 0, 0, 0, 0, 0, 0, 0, 0, 0, 0, 0, 0, 0, 0, 0, 0, 0, 0, 0, 0, 0, 0, 0, 0, 0, 0, 0, 0, 0, 0, 0, 0, 0, 0, 0, 0, 0, 0, 0, 0, 0, 0, 0, 0, 0, 0, 0, 0, 0, 0, 0, 0, 0, 0, 0, 0, 0, 0, 0]\n",
            "1612\n"
          ],
          "name": "stdout"
        }
      ]
    },
    {
      "cell_type": "code",
      "metadata": {
        "colab": {
          "base_uri": "https://localhost:8080/"
        },
        "id": "3UezCHjFm_Gj",
        "outputId": "e07afbf7-d252-4c97-a9b5-7df02f0fca7d"
      },
      "source": [
        "#TG Dataset\n",
        "listallalpha=list_all_train[:252]\n",
        "foldidalpha=fold_id[:252]\n",
        "listallbeta=list_all_train[252:478]\n",
        "\n",
        "foldidbeta=fold_id[252:478]\n",
        "listallalphabybeta=list_all_train[478:589]\n",
        "foldidalphabybeta=fold_id[478:589]\n",
        "listallalphaplusbeta=list_all_train[589:(589+185)]\n",
        "print(listallalphaplusbeta)\n",
        "foldidalphaplusbeta=fold_id[589:(589+185)]"
      ],
      "execution_count": null,
      "outputs": [
        {
          "output_type": "stream",
          "text": [
            "['1e9ga', '1eova', '1et9a', '1eu3a', '1ewia', '1fgua', '1fgua', '1fjgl', '1fjgq', '1fl0a', '1fvia', '1g291', '1g291', '1gd7a', '1gm5a', '1go3e', '1gpc_', '1guta', '1gvp_', '1h9ra', '1h9ra', '1hh2p', '1hr0w', '1i40a', '1i50h', '1iyjb', '1iyjb', '1iyjb', '1j6qa', '1jb3a', '1jb7a', '1jb7a', '1jb7a', '1jb7b', '1je5a', '1jjcb', '1jjga', '1jt8a', '1k0ra', '1k28a', '1k3ra', '1khia', '1kl9a', '1kxla', '1l1oc', '1ltla', '1luza', '1m4va', '1o7ia', '1oxsc', '1p16a', '1pfsa', '1prtb', '1prtd', '1prtf', '1qb5d', '1quqa', '1quqb', '1rl2a', '1sty_', '1uapa', '3chbd', '3seb_', '3tss_', '3ulla', '1cx4a', '1dcs_', '1dgwa', '1ds1a', '1e5sa', '1eula', '1eyba', '1fi2a', '1ft9a', '1gp6a', '1gy9a', '1h2ka', '1i5za', '1ig0a', '1ig3a', '1j58a', '1jopa', '1jr7a', '1juha', '1lkna', '1lrha', '1m4oa', '1nx4a', '1nxma', '1o4ta', '1o7fa', '1od5a', '1od5a', '1odma', '1omia', '1plza', '1pmi_', '1wapa', '2arca', '1a34a', '1a6ca', '1a6ca', '1a6ca', '1aym1', '1b35a', '1b35b', '1c8da', '1c8na', '1cwpa', '1ddla', '1dnv_', '1dzla', '1f15a', '1f2na', '1hx6a', '1hx6a', '1ihma', '1lp3a', '1m3ya', '1m3ya', '1nlqa', '1ny71', '1ny72', '1ny72', '1opoa', '1pgs_', '1pgs_', '1phm_', '1phm_', '1qqp1', '1qqp3', '1ruxa', '1ruxa', '1stma', '1vpsa', '2bbva', '2bpa1', '2bpa2', '2mev1', '2stv_', '2tbva', '1a0ca', '1a4ma', '1a53_', '1aq0a', '1b5ta', '1bag_', '1bd0a', '1bf2_', '1bhga', '1bqca', '1byb_', '1ccwb', '1ceo_', '1cnv_', '1ct5a', '1cz1a', '1d3ga', '1d8ca', '1d8wa', '1dbta', '1dhpa', '1dqua', '1dqwa', '1dxea', '1e0ta', '1ec7a', '1ecea', '1edg_', '1eexa', '1eh9a', '1eoka', '1epxa', '1eswa', '1euaa', '1eyea', '1ezwa', '1f6ya', '1f74a', '1f8ma', '1fcqa', '1fhua', '1foba', '1g5aa', '1gjwa']\n"
          ],
          "name": "stdout"
        }
      ]
    },
    {
      "cell_type": "code",
      "metadata": {
        "colab": {
          "base_uri": "https://localhost:8080/"
        },
        "id": "OuUmkO0ET3e4",
        "outputId": "1deb402c-0874-4fb8-ecd9-5080916f304e"
      },
      "source": [
        "#DD Test Dataset\n",
        "\n",
        "file = open(\"/content/DDtest_alpha+beta.txt\", \"rb\")\n",
        "delnode = file.readlines()\n",
        "list_all_test=[]\n",
        "i=0\n",
        "testfold_id=[]\n",
        "while (i<len(delnode)):\n",
        "  str1=str(delnode[i])\n",
        "  #print(str1)\n",
        "  if((str1[2:6])==\"FOLD\"):\n",
        "    index_st = str1.find('(')\n",
        "    index_ed = str1.find(')')\n",
        "    k=int(str1[(index_st+1):(index_ed)])\n",
        "  index_st = str1.find('>')\n",
        "  index_ed = str1.find('')\n",
        "  if(index_st>0):\n",
        "    str1=str1[(index_st+1):(index_st+6)]\n",
        "    #if((len(str1)<=6)and(len(str1)>4)):\n",
        "    list_all_test.append(str1)\n",
        "    testfold_id.append(k)\n",
        "  \n",
        "  i=i+1\n",
        "  #print((str1))\n",
        "print((((testfold_id))))\n",
        "print((list_all_test))"
      ],
      "execution_count": null,
      "outputs": [
        {
          "output_type": "stream",
          "text": [
            "[25, 25, 25, 25, 25, 25, 25, 25, 26, 26, 26, 26, 26, 26, 26, 26, 26, 26, 26, 26, 26, 26, 26, 26, 26, 26, 26, 26, 26, 26, 26, 26, 26, 26, 26, 27, 27, 27, 27, 27, 27, 27, 27, 27, 27, 27, 27, 27]\n",
            "['1IGDA', '1GUAB', '1AL02', '2PIAA', '1ESFA', '1SE4A', '1TIFA', '1LGRA', '1FD2A', '1XERA', '1VJWA', '1IQZA', '1RAAB', '1SPBP', '1MLIA', '1PILA', '1NPKA', '1UP1A', '1UP1A', '1URNA', '2U1AA', '1DHMA', '1VHIA', '3RUBL', '5RUBA', '1DARA', '1AFIA', '1PSDA', '1MLAA', '1FWPA', '1REGX', '1AB8A', '1VAOA', '1GE0A', '1GE0A', '4CPAI', '1OMAA', '2SN3A', '1PTXA', '2CRDA', '1SCYA', '1CHLA', '1KTXA', '1ICA ', '2CBHA', '1LPBA', '1LPBB', '1TABI']\n"
          ],
          "name": "stdout"
        }
      ]
    },
    {
      "cell_type": "code",
      "metadata": {
        "id": "lDWD4JN-WP25",
        "colab": {
          "base_uri": "https://localhost:8080/"
        },
        "outputId": "15bf94f7-cc43-4790-c5eb-82e7d9285d7c"
      },
      "source": [
        "import shutil,os\n",
        "l=cereal_df['Column2'].tolist()\n",
        "count=0\n",
        "superfamily_list=[]\n",
        "j=0\n",
        "chainlist=[]\n",
        "liso=os.listdir('/content/albe/') \n",
        "\n",
        "Train_Dataset=[]\n",
        "for k in range(len(list_all_test)):\n",
        "          #print(list_all_train[k][:4])\n",
        "          strw=str.swapcase(list_all_test[k][:4])+'_'+str.capitalize(list_all_test[k][4])+'_albe_PG.json'\n",
        "          #print(strw)\n",
        "          strc='/content/albe/'+strw\n",
        "          if((strw in liso )):\n",
        "           # print(strw)\n",
        "            chainlist.append(strw)\n",
        "            #shutil.copy(strc,'/content/alph5')\n",
        "            data=json_toData_(testfold_id[k],strc)\n",
        "            #print(data)\n",
        "            Train_Dataset.append(data)\n",
        "            count=count+1\n",
        "    \n",
        "    \n",
        "      #print(count)\n",
        "  \n",
        "print(len(Train_Dataset))\n",
        "print((chainlist))"
      ],
      "execution_count": null,
      "outputs": [
        {
          "output_type": "stream",
          "text": [
            "46\n",
            "['1igd_A_albe_PG.json', '1gua_B_albe_PG.json', '1al0_2_albe_PG.json', '2pia_A_albe_PG.json', '1esf_A_albe_PG.json', '1se4_A_albe_PG.json', '1tif_A_albe_PG.json', '1lgr_A_albe_PG.json', '1fd2_A_albe_PG.json', '1xer_A_albe_PG.json', '1vjw_A_albe_PG.json', '1iqz_A_albe_PG.json', '1raa_B_albe_PG.json', '1spb_P_albe_PG.json', '1pil_A_albe_PG.json', '1npk_A_albe_PG.json', '1up1_A_albe_PG.json', '1up1_A_albe_PG.json', '1urn_A_albe_PG.json', '2u1a_A_albe_PG.json', '1dhm_A_albe_PG.json', '1vhi_A_albe_PG.json', '3rub_L_albe_PG.json', '5rub_A_albe_PG.json', '1dar_A_albe_PG.json', '1afi_A_albe_PG.json', '1psd_A_albe_PG.json', '1mla_A_albe_PG.json', '1fwp_A_albe_PG.json', '1reg_X_albe_PG.json', '1ab8_A_albe_PG.json', '1vao_A_albe_PG.json', '1ge0_A_albe_PG.json', '1ge0_A_albe_PG.json', '4cpa_I_albe_PG.json', '1oma_A_albe_PG.json', '2sn3_A_albe_PG.json', '1ptx_A_albe_PG.json', '2crd_A_albe_PG.json', '1scy_A_albe_PG.json', '1chl_A_albe_PG.json', '1ktx_A_albe_PG.json', '2cbh_A_albe_PG.json', '1lpb_A_albe_PG.json', '1lpb_B_albe_PG.json', '1tab_I_albe_PG.json']\n"
          ],
          "name": "stdout"
        }
      ]
    },
    {
      "cell_type": "code",
      "metadata": {
        "id": "UDssuqN4gNfH"
      },
      "source": [
        "import pickle\n",
        "with open(\"/content/testdd_alpha_plus_beta.txt\",\"wb\") as f:\n",
        "  f.write(pickle.dumps(Train_Dataset)) "
      ],
      "execution_count": null,
      "outputs": []
    },
    {
      "cell_type": "code",
      "metadata": {
        "colab": {
          "base_uri": "https://localhost:8080/"
        },
        "id": "eUvMFfpqgeOG",
        "outputId": "0a7488d5-d0a2-44ce-ad0e-1b711d6427de"
      },
      "source": [
        "import pickle\n",
        "with open(\"/content/testdd_alpha_plus_beta.txt\",\"rb\") as f:\n",
        "    dataset = pickle.load(f,encoding=\"latin1\")\n",
        "\n",
        "   \n",
        "#print(len(Train_Dataset))\n",
        "print(len(dataset))\n",
        " "
      ],
      "execution_count": null,
      "outputs": [
        {
          "output_type": "stream",
          "text": [
            "46\n"
          ],
          "name": "stdout"
        }
      ]
    },
    {
      "cell_type": "code",
      "metadata": {
        "colab": {
          "base_uri": "https://localhost:8080/"
        },
        "id": "wq1EuA-WiaeG",
        "outputId": "439b810f-de72-46a0-ca9a-2fbf6a5bbf3d"
      },
      "source": [
        "#all Alpha\n",
        "\n",
        "file = open(\"/content/all_Beta.txt\", \"rb\")\n",
        "delnode = file.readlines()\n",
        "list_alpha=[]\n",
        "i=0\n",
        "\n",
        "while (i<len(delnode)):\n",
        "  str1=str(delnode[i])\n",
        "\n",
        "  index_st = str1.find('[')\n",
        "  index_ed = str1.find(']')\n",
        "  if(index_ed>0):\n",
        "    str1=str1[(index_st+1):index_ed]\n",
        "    if((len(str1)<=6)and(len(str1)>4)):\n",
        "      list_alpha.append(str1)\n",
        "  \n",
        "  i=i+1\n",
        "  #print((str1))\n",
        "print(len(list_alpha))"
      ],
      "execution_count": null,
      "outputs": [
        {
          "output_type": "stream",
          "text": [
            "178\n"
          ],
          "name": "stdout"
        }
      ]
    },
    {
      "cell_type": "code",
      "metadata": {
        "colab": {
          "base_uri": "https://localhost:8080/"
        },
        "id": "FPYkQ-8EhA8K",
        "outputId": "179d6fd6-25fb-4fbb-a288-a81b72ea3f2a"
      },
      "source": [
        "j=0\n",
        "list_super=[]\n",
        "list_superfamily=[]\n",
        "l=cereal_df['Column1'].tolist()\n",
        "\n",
        "while (j<len(l)):\n",
        "    #print(type(l[j]))\n",
        "    if(int(list_alpha[0])==l[j]):\n",
        "      list_superfamily.append(cereal_df['Column2'][j])\n",
        "      j=j\n",
        "      break\n",
        "\n",
        "    j=j+1\n",
        "for i in range(len(list_alpha)):\n",
        "  list_superfamily=[]\n",
        "  #print(type(int(list_alpha[i])))\n",
        "  while (j<len(l)):\n",
        "    #print(type(l[j]))\n",
        "    if(int(list_alpha[i])==l[j]):\n",
        "      list_superfamily.append(cereal_df['Column2'][j])\n",
        "     \n",
        "    if(int(list_alpha[i])!=cereal_df['Column1'][j]):\n",
        "      sf=set(list_superfamily)\n",
        "      sl=list(sf)\n",
        "      list_super.append(sl)\n",
        "      #print(len(sl))\n",
        "      j=j\n",
        "      break\n",
        "    j=j+1\n",
        "print(len(list_super))"
      ],
      "execution_count": null,
      "outputs": [
        {
          "output_type": "stream",
          "text": [
            "178\n"
          ],
          "name": "stdout"
        }
      ]
    },
    {
      "cell_type": "code",
      "metadata": {
        "id": "IC_6JZyF56cf"
      },
      "source": [
        "import pandas as pd\n",
        "cereal_df = pd.read_csv(\"/content/scop_2.07.csv\")\n",
        "cereal_df1 = pd.read_csv(\"/content/scop_2.07.csv\")"
      ],
      "execution_count": null,
      "outputs": []
    },
    {
      "cell_type": "code",
      "metadata": {
        "id": "lSL8Q4zmNfSP"
      },
      "source": [
        "!jar -xvf   '/content/albe.zip'"
      ],
      "execution_count": null,
      "outputs": []
    },
    {
      "cell_type": "code",
      "metadata": {
        "id": "F1RXJhp4Nl99"
      },
      "source": [
        "file = open(\"/content/albe.txt\", \"r\")\n",
        "delnode = file.readlines()\n",
        "bladerlist=['1su3A','1su3B','1fblA','1pexA','1ck7A ','1genA','1gxdA','1gxdB',\n",
        "'1rtgA','1itvA','1itvB','1hxnA' ,'1qhuA' ,'1qjsA',\n",
        "'1qjsA' ,'2cltA','2cltB','1tl2A','5c2mA','1gydB' ,'1gyeB' ,'1gyhA','1gyhB',\n",
        "'1gyhC','1gyhD' ,'1gyhE','1gyhF' ,'1wl7A','1cvmA','1h6lA' ,'1pooA','1qlgA' ,'1cvmA','1h6lA' ,'1pooA','1qlgA','1qlgA','2pooA','3amrA','3amsA','1n6dA','1n6dB' ,'1n6dC','1n6dD' ,'1n6dE' ,'1n6dF' ,\n",
        "'1n6eA','1n6eE']"
      ],
      "execution_count": null,
      "outputs": []
    },
    {
      "cell_type": "code",
      "metadata": {
        "id": "EB90LN65NqHG"
      },
      "source": [
        "import shutil,os\n",
        "l=cereal_df['Column2'].tolist()\n",
        "count=0\n",
        "superfamily_list=[]\n",
        "j=0\n",
        "chainlist=[]\n",
        "liso=os.listdir('/content/albe/') \n",
        "str1=int(list_alpha[0])\n",
        "Dataset=[]\n",
        "datalabel=[]\n",
        "for k in range(len(list_super)):\n",
        "  \n",
        "  for i in range(len(list_super[k])):\n",
        "    l1=list(cereal_df['Chain'][cereal_df['Column2']==list_super[k][i]])\n",
        "     \n",
        "    #print(len(l1))\n",
        "    count=0\n",
        "    \n",
        "      \n",
        "    # if(len(l1)<30):\n",
        "      \n",
        "    #    #print(len(l1))\n",
        "      \n",
        "    #    for j in range(len(l1)):\n",
        "    #      if(count<=5):\n",
        "    #        strw=l1[j][:4]+'_'+l1[j][5]+'_albe_PG.json'\n",
        "    #        strc='/content/albe/'+strw\n",
        "    #        if((strw in liso )):\n",
        "    #          chainlist.append(strw)\n",
        "    #          #shutil.copy(strc,'/content/alph5')\n",
        "    #          data=json_toData_(k,strc)\n",
        "    #          Dataset.append(data)\n",
        "    #          count=count+1\n",
        "    \n",
        "    \n",
        "      #print(count)\n",
        "    count=0\n",
        "    \n",
        "      \n",
        "    if(len(l1)>20):\n",
        "      l1=l1[:20]\n",
        "      #print(len(l1))\n",
        "      \n",
        "      for j in range(len(l1)):\n",
        "        if(count<=5):\n",
        "          strw=l1[j][:4]+'_'+l1[j][5]+'_albe_PG.json'\n",
        "          strq=l1[j][:4]+l1[j][5]\n",
        "          strc='/content/albe/'+strw\n",
        "          if((strw in liso )and(strq in bladerlist)):\n",
        "            chainlist.append(strw)\n",
        "            #shutil.copy(strc,'/content/alph5')\n",
        "            data=json_toData_(k,strc)\n",
        "            datalabel.append(k)\n",
        "            Dataset.append(data)\n",
        "            count=count+1\n",
        "    \n",
        "    \n",
        "      print(count)\n",
        "print(len(datalabel)) \n",
        "print(len(Dataset))"
      ],
      "execution_count": null,
      "outputs": []
    },
    {
      "cell_type": "code",
      "metadata": {
        "id": "9TBG02kJ0Zlv"
      },
      "source": [
        "import pickle\n",
        "with open(\"/content/all_betabladergraph.txt\",\"wb\") as f:\n",
        "  f.write(pickle.dumps(Dataset)) "
      ],
      "execution_count": null,
      "outputs": []
    },
    {
      "cell_type": "code",
      "metadata": {
        "colab": {
          "base_uri": "https://localhost:8080/"
        },
        "id": "kBHSNCwT0vFF",
        "outputId": "ba3635ed-5b2e-439c-979b-9853db1de970"
      },
      "source": [
        "import pickle\n",
        "with open(\"/content/all_betabladergraph.txt\",\"rb\") as f:\n",
        "    dataset = pickle.load(f,encoding=\"latin1\")\n",
        "\n",
        "data=dataset[1]\n",
        "#data.coalesce()\n",
        "print(data.is_coalesced())\n",
        "print((data))\n",
        "print(len(dataset))\n",
        "print((chainlist[266:288]))\n",
        "print(chainlist)\n",
        "print(datalabel)"
      ],
      "execution_count": null,
      "outputs": [
        {
          "output_type": "stream",
          "text": [
            "True\n",
            "Data(edge_attr=[32, 1], edge_index=[2, 48], x=[29, 2], y=[1])\n",
            "20\n",
            "[]\n",
            "['1su3_A_albe_PG.json', '1su3_B_albe_PG.json', '1fbl_A_albe_PG.json', '1pex_A_albe_PG.json', '1gen_A_albe_PG.json', '1rtg_A_albe_PG.json', '1gyh_A_albe_PG.json', '1gyh_B_albe_PG.json', '1gyh_C_albe_PG.json', '1gyh_D_albe_PG.json', '1gyh_E_albe_PG.json', '1gyh_F_albe_PG.json', '1n6e_A_albe_PG.json', '1n6e_E_albe_PG.json', '1n6d_A_albe_PG.json', '1n6d_B_albe_PG.json', '1n6e_A_albe_PG.json', '1n6e_E_albe_PG.json', '1n6d_A_albe_PG.json', '1n6d_B_albe_PG.json']\n",
            "[63, 63, 63, 63, 63, 63, 64, 64, 64, 64, 64, 64, 65, 65, 65, 65, 66, 66, 66, 66]\n"
          ],
          "name": "stdout"
        }
      ]
    },
    {
      "cell_type": "code",
      "metadata": {
        "id": "O3Cux23tdzR6"
      },
      "source": [
        "!python -m zipfile -c alphabybeta.zip /content/alphabybeta"
      ],
      "execution_count": null,
      "outputs": []
    },
    {
      "cell_type": "code",
      "metadata": {
        "id": "tgqFvKEFkB6L"
      },
      "source": [
        "!pip install torch-geometric \\\n",
        "  torch-sparse \\\n",
        "  torch-scatter \\\n",
        "  torch-cluster \\\n",
        "  -f https://pytorch-geometric.com/whl/torch-1.8.0+cu101.html"
      ],
      "execution_count": null,
      "outputs": []
    },
    {
      "cell_type": "code",
      "metadata": {
        "id": "hXr1zjLvzC3k"
      },
      "source": [
        "import torch\n",
        "\n",
        "def format_pytorch_version(version):\n",
        "  return version.split('+')[0]\n",
        "\n",
        "TORCH_version = torch.__version__\n",
        "TORCH = format_pytorch_version(TORCH_version)\n",
        "\n",
        "def format_cuda_version(version):\n",
        "  return 'cu' + version.replace('.', '')\n",
        "\n",
        "CUDA_version = torch.version.cuda\n",
        "CUDA = format_cuda_version(CUDA_version)\n",
        "\n",
        "!pip install torch-scatter     -f https://pytorch-geometric.com/whl/torch-{TORCH}+{CUDA}.html\n",
        "!pip install torch-sparse      -f https://pytorch-geometric.com/whl/torch-{TORCH}+{CUDA}.html\n",
        "!pip install torch-cluster     -f https://pytorch-geometric.com/whl/torch-{TORCH}+{CUDA}.html\n",
        "!pip install torch-spline-conv -f https://pytorch-geometric.com/whl/torch-{TORCH}+{CUDA}.html\n",
        "!pip install torch-geometric "
      ],
      "execution_count": null,
      "outputs": []
    },
    {
      "cell_type": "code",
      "metadata": {
        "id": "pWzL0UI6zTBm"
      },
      "source": [
        "import json\n",
        "import torch\n",
        "import torch\n",
        "from torch_geometric.utils import erdos_renyi_graph, to_networkx, from_networkx\n",
        "from torch_geometric.data import Data\n",
        "from torch_sparse import spspmm, coalesce\n",
        "def json_toData_(attr_y,filename):\n",
        "  Dataset=[]\n",
        "  with open(filename) as f:\n",
        "    data = json.load(f)\n",
        "  #print(list(data.keys()))\n",
        "  vertices=data['vertices']\n",
        "  edges=data['edges']\n",
        "  edge_labels=data['edgeLabels']\n",
        "  #print(vertices)\n",
        "  edges_keys=list(edges.keys())\n",
        "  edges_values=list(edges.values())\n",
        "  ek=list(edge_labels.keys())\n",
        "  ev=list(edge_labels.values())\n",
        "  keys=[]\n",
        "  values=[]\n",
        "  degrees=[]\n",
        "  vertex_labels=[]\n",
        "  edge_atr=[]\n",
        "  edge_tuple=[]\n",
        "  #print(len(edges_values))\n",
        "  for j in range(len(edges_values)):\n",
        "      for k in range(len(edges_values[j])):\n",
        "        keys.append((j))\n",
        "  for i in range(len(edges_values)):\n",
        "    degrees.append(len(edges_values[i]))\n",
        "    if((vertices[i][0])=='h'):\n",
        "      vertex_labels.append(1)\n",
        "    if((vertices[i][0])=='e'):\n",
        "      vertex_labels.append(2)\n",
        "    \n",
        "    for j in range(len(edges_values[i])):\n",
        "      #keys.append(int(edges_keys[i][1]))\n",
        "      a=((edges_keys[i][1]))\n",
        "      #a1=(int(edges_keys[i][1]),int(edges_values[i][j][1]))\n",
        "      #edge_tuple.append(a1)\n",
        "      values.append(int(edges_values[i][j][1]))\n",
        "      b=(edges_values[i][j][1])\n",
        "      for l in range(len(ek)):\n",
        "        if(((ek[l][1]==a)and(ek[l][4]==b))or((ek[l][1]==b)and(ek[l][4]==a))):\n",
        "          if(ev[l]=='m'):\n",
        "            edge_atr.append(1)\n",
        "          if(ev[l]=='a'):\n",
        "            edge_atr.append(2)\n",
        "          if(ev[l]=='p'):\n",
        "            edge_atr.append(3)\n",
        "\n",
        "  #print(edges) \n",
        "\n",
        "  #print(edgetuple)\n",
        "  for i in range(len(keys)):\n",
        "    if(keys[i]!=values[i]):\n",
        "      a1=(keys[i],values[i])\n",
        "      edge_tuple.append(a1)\n",
        "  #print(edge_tuple)\n",
        "  edgetuple=set(edge_tuple)\n",
        "  #print(edgetuple)\n",
        "  edgetuple=sorted(list(edgetuple))\n",
        "  #print(edgetuple)\n",
        "  keys=[]\n",
        "  values=[]\n",
        "  for i in range(len(edgetuple)):\n",
        "    keys.append(edgetuple[i][0])\n",
        "    values.append(edgetuple[i][1])\n",
        "\n",
        "  edge_index = torch.tensor([(keys),(values)], dtype=torch.long)\n",
        "  edge_attr = torch.tensor([edge_atr]).view(-1, 1).long()\n",
        " \n",
        "  y=torch.tensor([attr_y], dtype=torch.long)\n",
        "  #print(degrees) \n",
        "  #print(vertex_labels) \n",
        "  x=torch.cat([torch.tensor(degrees).view(-1, 1).float(),torch.tensor(vertex_labels).view(-1, 1).float()],-1)\n",
        "  #print(ek[0][4])\n",
        "  #print(ev)\n",
        "  #print(edge_labels.keys()) \n",
        "  #print(len(ek)) \n",
        "  #print(edge_labels)\n",
        "  #print(edge_attr)\n",
        "\n",
        "  data = Data(x=x, edge_index=edge_index,edge_attr=edge_attr,y=y)\n",
        "  #print(data)\n",
        "  #G = to_networkx(data, node_attrs=['x'])\n",
        "  #G=G.to_undirected()\n",
        "  #g = dgl.from_networkx(G, node_attrs=['x'])\n",
        "  \n",
        "  #data=data.coalesce()\n",
        "  \n",
        "  #print(data)\n",
        "  \n",
        "  #print(data)\n",
        "  return data"
      ],
      "execution_count": null,
      "outputs": []
    },
    {
      "cell_type": "code",
      "metadata": {
        "id": "-sug6nazzYJ-",
        "colab": {
          "base_uri": "https://localhost:8080/"
        },
        "outputId": "78d2ed94-343f-4dfd-effa-e9d15625b46d"
      },
      "source": [
        "!python3 --version\n",
        "!nvcc --version"
      ],
      "execution_count": null,
      "outputs": [
        {
          "output_type": "stream",
          "text": [
            "Python 3.7.10\n",
            "nvcc: NVIDIA (R) Cuda compiler driver\n",
            "Copyright (c) 2005-2020 NVIDIA Corporation\n",
            "Built on Wed_Jul_22_19:09:09_PDT_2020\n",
            "Cuda compilation tools, release 11.0, V11.0.221\n",
            "Build cuda_11.0_bu.TC445_37.28845127_0\n"
          ],
          "name": "stdout"
        }
      ]
    },
    {
      "cell_type": "code",
      "metadata": {
        "id": "US0mIGC2bE5q"
      },
      "source": [
        "file = open(\"/content/scoptest.fasta.txt\", \"rb\")\n",
        "delnode = file.readlines()"
      ],
      "execution_count": null,
      "outputs": []
    },
    {
      "cell_type": "code",
      "metadata": {
        "id": "L7yx5-XVbOpi"
      },
      "source": [
        "Dataset=[]\n",
        "for i in range(len(delnode)):\n",
        "  str1=str(delnode[i])\n",
        "  index_st = str1.find('>')\n",
        "  str1=str1[3:9]\n",
        "  \n",
        "  liso=os.listdir('/content/albe/') \n",
        "  strw=str1[1:5]+'_'+str.capitalize(str1[5])+'_albe_PG.json'\n",
        "  \n",
        "  strc='/content/albe/'+strw\n",
        "  if((strw in liso )):\n",
        "    shutil.copy(strc,'/content/alphabybeta')"
      ],
      "execution_count": null,
      "outputs": []
    }
  ]
}